{
 "cells": [
  {
   "cell_type": "markdown",
   "metadata": {},
   "source": [
    "### <h2>0. Thêm Thư Viện</h2>"
   ]
  },
  {
   "cell_type": "code",
   "execution_count": 1,
   "metadata": {},
   "outputs": [],
   "source": [
    "# thư viện\n",
    "import numpy as np\n",
    "import pandas as pd\n",
    "import csv\n",
    "\n",
    "from sklearn.model_selection import train_test_split # chia ác bộ để test and train\n",
    "from sklearn.preprocessing import StandardScaler # kiểm tra dữ liệu (chuẩn hóa)\n",
    "from sklearn.neighbors import KNeighborsClassifier # công cụ thuật toán\n",
    "from sklearn.linear_model import RidgeClassifier # công cụ thuật toán\n",
    "from sklearn.linear_model import LogisticRegression\n",
    "### công cụ kiểm tra độ predict \n",
    "from sklearn.metrics import confusion_matrix\n",
    "from sklearn.metrics import accuracy_score\n",
    "from sklearn.metrics import f1_score\n"
   ]
  },
  {
   "cell_type": "markdown",
   "metadata": {},
   "source": [
    "### <h2>1. Read Data</h2>"
   ]
  },
  {
   "cell_type": "code",
   "execution_count": 2,
   "metadata": {},
   "outputs": [],
   "source": [
    "# read data\n",
    "data1 = pd.read_csv(\"./file_csv/Train_samsung.csv\")\n",
    "data2 = pd.read_csv(\"./file_csv/Test_samsung_noclass.csv\")\n",
    "predict_data = data2.copy()\n",
    "list_data = [data1, data2]\n",
    "# display(list_data[0])"
   ]
  },
  {
   "cell_type": "markdown",
   "metadata": {},
   "source": [
    "### <h2>2. Convert string to numberic</h2>"
   ]
  },
  {
   "cell_type": "code",
   "execution_count": 3,
   "metadata": {},
   "outputs": [],
   "source": [
    "# chuyển đổi\n",
    "for data in list_data:\n",
    "    # print(data['X1'].unique())\n",
    "    # print(data['X2'].unique())\n",
    "    # print(data['X3'].unique())\n",
    "    # print(data['X4'].unique())\n",
    "    # print(data['X5'].unique())\n",
    "    # print(data[\"X11\"].unique())\n",
    "\n",
    "    data['X3'].replace({\"3+\" : 3, \"0\" : 0, \"1\" : 1, \"2\" : 2}, inplace=True)\n",
    "    data['X1'].replace({\"Male\" : 1, \"Female\" : 0}, inplace=True)\n",
    "    data['X2'].replace({\"Yes\" : 1, \"No\" : 0}, inplace=True)\n",
    "    data['X5'].replace({\"Yes\" : 1, \"No\" : 0}, inplace=True)\n",
    "    data['X4'].replace({\"Graduate\" : 1, \"Not Graduate\" : 0}, inplace=True)\n",
    "    data['X11'].replace({\"Semiurban\" : 0, \"Rural\" : 1, \"Urban\" : 2}, inplace=True)\n",
    "# print(list_data[0]['Class'].unique())\n",
    "list_data[0]['Class'].replace({\"Y\" : 1, \"N\" : 0}, inplace=True)\n",
    "# display(list_data[0])\n",
    "# display(list_data[1])"
   ]
  },
  {
   "cell_type": "markdown",
   "metadata": {},
   "source": [
    "### <h2>3. Clean data</h2>"
   ]
  },
  {
   "cell_type": "markdown",
   "metadata": {},
   "source": [
    "#### <h4>1. kiểm tra</h4>"
   ]
  },
  {
   "cell_type": "code",
   "execution_count": 4,
   "metadata": {},
   "outputs": [],
   "source": [
    "# kiểm tra nan\n",
    "def check():\n",
    "    display(list_data[0].isna().sum())\n",
    "    display(list_data[1].isna().sum())"
   ]
  },
  {
   "cell_type": "markdown",
   "metadata": {},
   "source": [
    "#### <h4>2. function with fre</h4>"
   ]
  },
  {
   "cell_type": "code",
   "execution_count": 5,
   "metadata": {},
   "outputs": [],
   "source": [
    "# làm sạch theo tần số\n",
    "def clean_fre(df):\n",
    "    cnt = df.value_counts(dropna=True)\n",
    "    df.fillna(cnt.index[0], inplace=True)"
   ]
  },
  {
   "cell_type": "markdown",
   "metadata": {},
   "source": [
    "#### <h4>3. function min max</h4>"
   ]
  },
  {
   "cell_type": "code",
   "execution_count": 6,
   "metadata": {},
   "outputs": [],
   "source": [
    "# làm sạch theo median\n",
    "def rnd(df):\n",
    "    # round \n",
    "    df.fillna(round(df.mean()), inplace=True)"
   ]
  },
  {
   "cell_type": "markdown",
   "metadata": {},
   "source": [
    "#### <h4>4. Clean data</h4>"
   ]
  },
  {
   "cell_type": "code",
   "execution_count": 7,
   "metadata": {},
   "outputs": [],
   "source": [
    "# lấp đầy bằng median\n",
    "for data in list_data:\n",
    "    for i in range(len(data.columns) - 1):\n",
    "        rnd(data[data.columns[i]])\n",
    "# check()\n"
   ]
  },
  {
   "cell_type": "markdown",
   "metadata": {},
   "source": [
    "### <h2>4. Chuẩn hóa dữ liệu</h2>"
   ]
  },
  {
   "cell_type": "code",
   "execution_count": 8,
   "metadata": {},
   "outputs": [],
   "source": [
    "# chuẩn hóa về 0 đến 1\n",
    "for data in list_data:\n",
    "    for i in range(5, 9):\n",
    "        data[data.columns[i]] = (data[data.columns[i]] - data[data.columns[i]].min()) / (data[data.columns[i]].max() - data[data.columns[i]].min())\n"
   ]
  },
  {
   "cell_type": "markdown",
   "metadata": {},
   "source": [
    "### <h2>5. Train test data</h2>"
   ]
  },
  {
   "cell_type": "code",
   "execution_count": 9,
   "metadata": {},
   "outputs": [],
   "source": [
    "# tạo train and test : cùng thư viện train_test_split()\n",
    "\n",
    "X_train, X_test, y_train, y_test = train_test_split(list_data[0].iloc[:, :-1], list_data[0].iloc[:, -1], test_size=0.12, random_state=42)"
   ]
  },
  {
   "cell_type": "code",
   "execution_count": 10,
   "metadata": {},
   "outputs": [
    {
     "name": "stdout",
     "output_type": "stream",
     "text": [
      "accuracy:  0.8305084745762712\n",
      "f1 score:  0.8008153569594247\n",
      "confusion matrix: \n",
      "[[ 6 10]\n",
      " [ 0 43]]\n"
     ]
    },
    {
     "name": "stderr",
     "output_type": "stream",
     "text": [
      "/home/vutuyen/.local/lib/python3.10/site-packages/sklearn/linear_model/_base.py:148: FutureWarning: 'normalize' was deprecated in version 1.0 and will be removed in 1.2. Please leave the normalize parameter to its default value to silence this warning. The default behavior of this estimator is to not do any normalization. If normalization is needed please use sklearn.preprocessing.StandardScaler instead.\n",
      "  warnings.warn(\n"
     ]
    }
   ],
   "source": [
    "# train and test RidgeClassifier\n",
    "clf = RidgeClassifier(alpha=1.0, class_weight=None, copy_X=True, fit_intercept=True, \n",
    "                      max_iter=None, normalize=False, random_state=6933,\n",
    "                      solver='auto', tol=0.001)\n",
    "\n",
    "clf.fit(X_train, y_train)\n",
    "y_pred = clf.predict(X_test)\n",
    "\n",
    "print(\"accuracy: \", accuracy_score(y_test, y_pred))\n",
    "print(\"f1 score: \", f1_score(y_test, y_pred, average='weighted'))\n",
    "print(\"confusion matrix: \")\n",
    "print(confusion_matrix(y_test, y_pred))\n"
   ]
  },
  {
   "cell_type": "code",
   "execution_count": 11,
   "metadata": {},
   "outputs": [
    {
     "data": {
      "text/plain": "{'fit_time': array([0.00653195, 0.00778365, 0.0071373 , 0.00612783, 0.00618505]),\n 'score_time': array([0.00246763, 0.00241566, 0.00275445, 0.00227356, 0.00223374]),\n 'test_accuracy': array([0.8045977 , 0.82758621, 0.81395349, 0.81395349, 0.81395349]),\n 'test_f1': array([0.87407407, 0.88372093, 0.88732394, 0.87692308, 0.87692308])}"
     },
     "execution_count": 11,
     "metadata": {},
     "output_type": "execute_result"
    }
   ],
   "source": [
    "from sklearn.pipeline import make_pipeline\n",
    "from sklearn.model_selection import train_test_split, cross_validate, KFold\n",
    "logit = LogisticRegression()\n",
    "standard_scaler = StandardScaler()\n",
    "\n",
    "scoring = ['accuracy', 'f1']\n",
    "\n",
    "pipeLine = make_pipeline(standard_scaler, logit)\n",
    "kf = KFold(n_splits=5, shuffle=True, random_state=2)\n",
    "\n",
    "cv_resutls = cross_validate(\n",
    "    pipeLine, X_train, y_train, cv=kf, n_jobs=-1, scoring=scoring)\n",
    "\n",
    "cv_resutls\n"
   ]
  },
  {
   "cell_type": "code",
   "execution_count": 12,
   "metadata": {},
   "outputs": [
    {
     "data": {
      "text/plain": "0.8797930203629516"
     },
     "execution_count": 12,
     "metadata": {},
     "output_type": "execute_result"
    }
   ],
   "source": [
    "cv_resutls['test_f1'].mean()"
   ]
  },
  {
   "cell_type": "markdown",
   "metadata": {},
   "source": [
    "### <h2>6. Predict class in test_samsung_noclass: target:: class</h2>"
   ]
  },
  {
   "cell_type": "code",
   "execution_count": 13,
   "metadata": {},
   "outputs": [],
   "source": [
    "# predict  test_samsung\n",
    "x_test_samsung = list_data[1].copy()\n",
    "y_test_samsung = clf.predict(x_test_samsung)\n",
    "predict_data[\"Class\"] = y_test_samsung\n",
    "predict_data['Class'].replace({1 : \"Y\", 0 : \"N\"}, inplace=True)"
   ]
  },
  {
   "cell_type": "code",
   "execution_count": 14,
   "metadata": {},
   "outputs": [
    {
     "name": "stdout",
     "output_type": "stream",
     "text": [
      "[1 1 1 1 1 1 1 1 1 1 0 1 1 1 1 1 1 1 1 1 1 1 1 1 1 1 1 1 1 1 1 1 1 1 1 0 1\n",
      " 1 1 1 1 1 1 1 1 1 1 0 0 0 1 1 0 1 1 1 0 1 0 1 0 1 0 1 1 1 1 1 1 1 0 1 1 1\n",
      " 0 1 1 0 0 1 1 1 1 1 1 1 1 0 1 1 1 0 0 1 1 1 1 1 1 1 1 1 1 1 1 0 1 0 1 1 1\n",
      " 0 1 1 1 1 1 1 1 1 1 1 1]\n"
     ]
    },
    {
     "data": {
      "text/plain": "         X1   X2 X3        X4   X5     X6      X7     X8     X9  X10  \\\n0      Male  Yes  0  Graduate   No   9083     0.0  228.0  360.0  1.0   \n1      Male  Yes  0  Graduate   No   4310     0.0  130.0  360.0  NaN   \n2      Male  Yes  2  Graduate   No   4167  1447.0  158.0  360.0  1.0   \n3    Female   No  0  Graduate   No   2900     0.0   71.0  360.0  1.0   \n4      Male   No  0  Graduate   No   2718     0.0   70.0  360.0  1.0   \n..      ...  ... ..       ...  ...    ...     ...    ...    ...  ...   \n118    Male  Yes  0  Graduate  NaN   3716     0.0   42.0  180.0  1.0   \n119  Female   No  0  Graduate   No   2507     0.0   56.0  360.0  1.0   \n120    Male  Yes  1  Graduate   No   2882  1843.0  123.0  480.0  1.0   \n121    Male  Yes  2  Graduate  NaN   2500  1840.0  109.0  360.0  1.0   \n122    Male  Yes  0  Graduate  NaN  63337     0.0  490.0  180.0  1.0   \n\n           X11 Class  \n0    Semiurban     Y  \n1    Semiurban     Y  \n2        Rural     Y  \n3        Rural     Y  \n4    Semiurban     Y  \n..         ...   ...  \n118      Rural     Y  \n119      Rural     Y  \n120  Semiurban     Y  \n121      Urban     Y  \n122      Urban     Y  \n\n[123 rows x 12 columns]",
      "text/html": "<div>\n<style scoped>\n    .dataframe tbody tr th:only-of-type {\n        vertical-align: middle;\n    }\n\n    .dataframe tbody tr th {\n        vertical-align: top;\n    }\n\n    .dataframe thead th {\n        text-align: right;\n    }\n</style>\n<table border=\"1\" class=\"dataframe\">\n  <thead>\n    <tr style=\"text-align: right;\">\n      <th></th>\n      <th>X1</th>\n      <th>X2</th>\n      <th>X3</th>\n      <th>X4</th>\n      <th>X5</th>\n      <th>X6</th>\n      <th>X7</th>\n      <th>X8</th>\n      <th>X9</th>\n      <th>X10</th>\n      <th>X11</th>\n      <th>Class</th>\n    </tr>\n  </thead>\n  <tbody>\n    <tr>\n      <th>0</th>\n      <td>Male</td>\n      <td>Yes</td>\n      <td>0</td>\n      <td>Graduate</td>\n      <td>No</td>\n      <td>9083</td>\n      <td>0.0</td>\n      <td>228.0</td>\n      <td>360.0</td>\n      <td>1.0</td>\n      <td>Semiurban</td>\n      <td>Y</td>\n    </tr>\n    <tr>\n      <th>1</th>\n      <td>Male</td>\n      <td>Yes</td>\n      <td>0</td>\n      <td>Graduate</td>\n      <td>No</td>\n      <td>4310</td>\n      <td>0.0</td>\n      <td>130.0</td>\n      <td>360.0</td>\n      <td>NaN</td>\n      <td>Semiurban</td>\n      <td>Y</td>\n    </tr>\n    <tr>\n      <th>2</th>\n      <td>Male</td>\n      <td>Yes</td>\n      <td>2</td>\n      <td>Graduate</td>\n      <td>No</td>\n      <td>4167</td>\n      <td>1447.0</td>\n      <td>158.0</td>\n      <td>360.0</td>\n      <td>1.0</td>\n      <td>Rural</td>\n      <td>Y</td>\n    </tr>\n    <tr>\n      <th>3</th>\n      <td>Female</td>\n      <td>No</td>\n      <td>0</td>\n      <td>Graduate</td>\n      <td>No</td>\n      <td>2900</td>\n      <td>0.0</td>\n      <td>71.0</td>\n      <td>360.0</td>\n      <td>1.0</td>\n      <td>Rural</td>\n      <td>Y</td>\n    </tr>\n    <tr>\n      <th>4</th>\n      <td>Male</td>\n      <td>No</td>\n      <td>0</td>\n      <td>Graduate</td>\n      <td>No</td>\n      <td>2718</td>\n      <td>0.0</td>\n      <td>70.0</td>\n      <td>360.0</td>\n      <td>1.0</td>\n      <td>Semiurban</td>\n      <td>Y</td>\n    </tr>\n    <tr>\n      <th>...</th>\n      <td>...</td>\n      <td>...</td>\n      <td>...</td>\n      <td>...</td>\n      <td>...</td>\n      <td>...</td>\n      <td>...</td>\n      <td>...</td>\n      <td>...</td>\n      <td>...</td>\n      <td>...</td>\n      <td>...</td>\n    </tr>\n    <tr>\n      <th>118</th>\n      <td>Male</td>\n      <td>Yes</td>\n      <td>0</td>\n      <td>Graduate</td>\n      <td>NaN</td>\n      <td>3716</td>\n      <td>0.0</td>\n      <td>42.0</td>\n      <td>180.0</td>\n      <td>1.0</td>\n      <td>Rural</td>\n      <td>Y</td>\n    </tr>\n    <tr>\n      <th>119</th>\n      <td>Female</td>\n      <td>No</td>\n      <td>0</td>\n      <td>Graduate</td>\n      <td>No</td>\n      <td>2507</td>\n      <td>0.0</td>\n      <td>56.0</td>\n      <td>360.0</td>\n      <td>1.0</td>\n      <td>Rural</td>\n      <td>Y</td>\n    </tr>\n    <tr>\n      <th>120</th>\n      <td>Male</td>\n      <td>Yes</td>\n      <td>1</td>\n      <td>Graduate</td>\n      <td>No</td>\n      <td>2882</td>\n      <td>1843.0</td>\n      <td>123.0</td>\n      <td>480.0</td>\n      <td>1.0</td>\n      <td>Semiurban</td>\n      <td>Y</td>\n    </tr>\n    <tr>\n      <th>121</th>\n      <td>Male</td>\n      <td>Yes</td>\n      <td>2</td>\n      <td>Graduate</td>\n      <td>NaN</td>\n      <td>2500</td>\n      <td>1840.0</td>\n      <td>109.0</td>\n      <td>360.0</td>\n      <td>1.0</td>\n      <td>Urban</td>\n      <td>Y</td>\n    </tr>\n    <tr>\n      <th>122</th>\n      <td>Male</td>\n      <td>Yes</td>\n      <td>0</td>\n      <td>Graduate</td>\n      <td>NaN</td>\n      <td>63337</td>\n      <td>0.0</td>\n      <td>490.0</td>\n      <td>180.0</td>\n      <td>1.0</td>\n      <td>Urban</td>\n      <td>Y</td>\n    </tr>\n  </tbody>\n</table>\n<p>123 rows × 12 columns</p>\n</div>"
     },
     "metadata": {},
     "output_type": "display_data"
    }
   ],
   "source": [
    "# result\n",
    "print(y_test_samsung)\n",
    "file_csv = csv.writer(open(\"./file_csv/class_label.csv\", \"w\"))\n",
    "file_csv.writerow([\"Class\"])\n",
    "for i in range(predict_data.shape[0]):\n",
    "    file_csv.writerow(predict_data['Class'][i])\n",
    "display(predict_data)"
   ]
  }
 ],
 "metadata": {
  "kernelspec": {
   "display_name": "Python 3.10.7 64-bit",
   "language": "python",
   "name": "python3"
  },
  "language_info": {
   "codemirror_mode": {
    "name": "ipython",
    "version": 3
   },
   "file_extension": ".py",
   "mimetype": "text/x-python",
   "name": "python",
   "nbconvert_exporter": "python",
   "pygments_lexer": "ipython3",
   "version": "3.10.7"
  },
  "orig_nbformat": 4,
  "vscode": {
   "interpreter": {
    "hash": "31f2aee4e71d21fbe5cf8b01ff0e069b9275f58929596ceb00d14d90e3e16cd6"
   }
  }
 },
 "nbformat": 4,
 "nbformat_minor": 2
}
