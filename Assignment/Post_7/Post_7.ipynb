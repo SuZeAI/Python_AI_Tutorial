{
 "cells": [
  {
   "cell_type": "markdown",
   "metadata": {
    "collapsed": false
   },
   "source": [
    "# Solution 8- queen use generation algorithm"
   ]
  },
  {
   "cell_type": "markdown",
   "metadata": {
    "collapsed": false
   },
   "source": [
    "# Libary and process"
   ]
  },
  {
   "cell_type": "code",
   "execution_count": 1,
   "metadata": {
    "collapsed": true
   },
   "outputs": [],
   "source": [
    "import random\n",
    "import numpy as np\n",
    "from deap import algorithms, base, creator, tools"
   ]
  },
  {
   "cell_type": "code",
   "execution_count": 2,
   "metadata": {
    "collapsed": false
   },
   "outputs": [],
   "source": [
    "creator.create(\"FitnessMin\", base.Fitness, weights=(-1.0, ))\n",
    "creator.create(\"Individual\", list, fitness=creator.FitnessMin)"
   ]
  },
  {
   "cell_type": "code",
   "execution_count": 3,
   "metadata": {},
   "outputs": [],
   "source": [
    "def create_individual():\n",
    "    return random.sample(range(64), 8)"
   ]
  },
  {
   "cell_type": "code",
   "execution_count": 4,
   "metadata": {},
   "outputs": [
    {
     "name": "stdout",
     "output_type": "stream",
     "text": [
      "[24, 48, 58, 53, 12, 1, 26, 43]\n"
     ]
    }
   ],
   "source": [
    "print(create_individual())"
   ]
  },
  {
   "cell_type": "code",
   "execution_count": 5,
   "metadata": {},
   "outputs": [],
   "source": [
    "def show_grid(board):\n",
    "    n = [0] * 64\n",
    "    for i in board:\n",
    "        n[i] = 1\n",
    "    \n",
    "    for i in range(8):\n",
    "        for j in range(64):\n",
    "            if j // 8 == i:\n",
    "                if n[j] == 1:   print('x', end = '|')\n",
    "                else: print('-', end='|')\n",
    "        print()"
   ]
  },
  {
   "cell_type": "code",
   "execution_count": 6,
   "metadata": {},
   "outputs": [
    {
     "name": "stdout",
     "output_type": "stream",
     "text": [
      "-|x|-|-|-|-|-|-|\n",
      "-|-|-|-|-|-|-|-|\n",
      "-|-|-|-|-|-|-|x|\n",
      "-|-|-|-|x|-|-|-|\n",
      "x|-|x|-|-|x|-|-|\n",
      "-|-|-|-|-|-|-|-|\n",
      "-|-|-|-|-|x|-|-|\n",
      "-|-|-|-|-|-|-|x|\n"
     ]
    }
   ],
   "source": [
    "show_grid(create_individual())"
   ]
  },
  {
   "cell_type": "code",
   "execution_count": 7,
   "metadata": {},
   "outputs": [],
   "source": [
    "toolbox = base.Toolbox()\n",
    "toolbox.register('individual', tools.initIterate, creator.Individual, create_individual)\n",
    "toolbox.register(\"population\", tools.initRepeat, list, toolbox.individual)"
   ]
  },
  {
   "cell_type": "code",
   "execution_count": 8,
   "metadata": {},
   "outputs": [
    {
     "name": "stdout",
     "output_type": "stream",
     "text": [
      "[21, 13, 1, 38, 11, 32, 22, 8]\n"
     ]
    }
   ],
   "source": [
    "pop = toolbox.population(n=5)\n",
    "print(pop[0])"
   ]
  },
  {
   "cell_type": "markdown",
   "metadata": {},
   "source": []
  },
  {
   "cell_type": "code",
   "execution_count": 9,
   "metadata": {},
   "outputs": [
    {
     "name": "stdout",
     "output_type": "stream",
     "text": [
      "-|x|-|-|-|-|-|-|\n",
      "x|-|-|x|-|x|-|-|\n",
      "-|-|-|-|-|x|x|-|\n",
      "-|-|-|-|-|-|-|-|\n",
      "x|-|-|-|-|-|x|-|\n",
      "-|-|-|-|-|-|-|-|\n",
      "-|-|-|-|-|-|-|-|\n",
      "-|-|-|-|-|-|-|-|\n"
     ]
    }
   ],
   "source": [
    "show_grid(pop[0])"
   ]
  },
  {
   "cell_type": "markdown",
   "metadata": {},
   "source": [
    "# Count meet by two queen"
   ]
  },
  {
   "cell_type": "code",
   "execution_count": 10,
   "metadata": {},
   "outputs": [],
   "source": [
    "# function\n",
    "def evaFitness(individual):\n",
    "    conflict = 0\n",
    "    for i in range(len(individual)):\n",
    "        row1 = individual[i] // len(individual)\n",
    "        column1 = individual[i] % len(individual)\n",
    "        \n",
    "        for j in range(i + 1, len(individual)):\n",
    "            row2 = individual[j] // len(individual)\n",
    "            column2 = individual[j] % len(individual)\n",
    "            \n",
    "            dx = abs(row1 - row2)\n",
    "            dy = abs(column1 - column2)\n",
    "            \n",
    "            if column1 == column2 or row1 == row2:\n",
    "                conflict += 1\n",
    "            \n",
    "            elif dx == dy:\n",
    "                conflict += 1\n",
    "    return (checkDuplicate(individual) + conflict, )\n",
    "def checkDuplicate(individual):\n",
    "    dup = 0\n",
    "    \n",
    "    dup = len(individual) - len(set(individual))\n",
    "    \n",
    "    return dup * 50"
   ]
  },
  {
   "cell_type": "markdown",
   "metadata": {},
   "source": [
    "# Add function to toolbox"
   ]
  },
  {
   "cell_type": "code",
   "execution_count": 11,
   "metadata": {},
   "outputs": [],
   "source": [
    "toolbox.register(\"evaluate\", evaFitness)\n",
    "toolbox.register(\"mate\", tools.cxTwoPoint)\n",
    "toolbox.register(\"mutate\", tools.mutUniformInt, low=0, up=63, indpb=0.1)\n",
    "toolbox.register(\"select\", tools.selTournament, tournsize=3)"
   ]
  },
  {
   "cell_type": "code",
   "execution_count": 12,
   "metadata": {},
   "outputs": [],
   "source": [
    "stats = tools.Statistics(key=lambda ind : ind.fitness.values)"
   ]
  },
  {
   "cell_type": "code",
   "execution_count": 13,
   "metadata": {},
   "outputs": [],
   "source": [
    "stats.register(\"avg\", np.mean)\n",
    "stats.register(\"min\", np.min)\n",
    "stats.register(\"max\", np.max)"
   ]
  },
  {
   "cell_type": "markdown",
   "metadata": {},
   "source": [
    "# Individual"
   ]
  },
  {
   "cell_type": "code",
   "execution_count": 14,
   "metadata": {},
   "outputs": [
    {
     "name": "stdout",
     "output_type": "stream",
     "text": [
      "gen\tnevals\tavg    \tmin\tmax\n",
      "0  \t5000  \t10.1042\t3  \t20 \n",
      "1  \t2974  \t14.0906\t2  \t116\n",
      "2  \t3046  \t13.537 \t2  \t163\n",
      "3  \t3017  \t12.6974\t2  \t159\n",
      "4  \t2992  \t12.616 \t2  \t115\n",
      "5  \t2931  \t11.9338\t2  \t115\n",
      "6  \t3013  \t11.88  \t2  \t112\n",
      "7  \t2994  \t12.1994\t2  \t111\n",
      "8  \t3000  \t11.9932\t0  \t158\n",
      "9  \t3028  \t11.4038\t0  \t156\n",
      "10 \t3014  \t11.2988\t0  \t156\n",
      "11 \t3041  \t10.707 \t0  \t156\n",
      "12 \t3000  \t10.8044\t0  \t111\n",
      "13 \t2976  \t10.4766\t0  \t155\n",
      "14 \t3002  \t10.191 \t0  \t156\n",
      "15 \t3017  \t9.685  \t0  \t111\n",
      "16 \t2948  \t8.7272 \t0  \t111\n",
      "17 \t3017  \t7.4858 \t0  \t108\n",
      "18 \t3045  \t5.3676 \t0  \t155\n",
      "19 \t2969  \t2.9976 \t0  \t103\n",
      "20 \t3008  \t2.0118 \t0  \t106\n",
      "21 \t2945  \t1.4016 \t0  \t103\n",
      "22 \t3095  \t1.4158 \t0  \t104\n",
      "23 \t2964  \t1.3684 \t0  \t106\n",
      "24 \t3019  \t1.181  \t0  \t103\n",
      "25 \t2996  \t1.307  \t0  \t102\n",
      "26 \t3024  \t1.352  \t0  \t154\n",
      "27 \t2994  \t1      \t0  \t59 \n",
      "28 \t3044  \t1.1544 \t0  \t105\n",
      "29 \t2990  \t1.1104 \t0  \t103\n",
      "30 \t2943  \t1.0978 \t0  \t105\n",
      "31 \t2974  \t1.2058 \t0  \t106\n",
      "32 \t3000  \t1.3262 \t0  \t102\n",
      "33 \t3024  \t1.1322 \t0  \t102\n",
      "34 \t2980  \t1.2046 \t0  \t103\n",
      "35 \t3057  \t1.3334 \t0  \t105\n",
      "36 \t2955  \t1.3496 \t0  \t105\n",
      "37 \t3021  \t1.19   \t0  \t103\n",
      "38 \t2978  \t1.3456 \t0  \t106\n",
      "39 \t3014  \t1.2174 \t0  \t104\n",
      "40 \t2982  \t1.0196 \t0  \t102\n",
      "41 \t3015  \t1.0828 \t0  \t103\n",
      "42 \t2982  \t0.9984 \t0  \t102\n",
      "43 \t3011  \t1.0216 \t0  \t103\n",
      "44 \t3044  \t1.3288 \t0  \t103\n",
      "45 \t2963  \t1.104  \t0  \t106\n",
      "46 \t3026  \t1.1886 \t0  \t108\n",
      "47 \t2993  \t1.2866 \t0  \t102\n",
      "48 \t3056  \t1.132  \t0  \t102\n",
      "49 \t3007  \t1.4026 \t0  \t103\n",
      "50 \t3016  \t1.151  \t0  \t104\n",
      "51 \t3009  \t1.1218 \t0  \t64 \n",
      "52 \t3000  \t1.3446 \t0  \t104\n",
      "53 \t3080  \t1.251  \t0  \t104\n",
      "54 \t2989  \t1.298  \t0  \t62 \n",
      "55 \t2974  \t1.056  \t0  \t108\n",
      "56 \t3075  \t1.24   \t0  \t102\n",
      "57 \t3014  \t1.1886 \t0  \t103\n",
      "58 \t2995  \t1.1484 \t0  \t108\n",
      "59 \t3018  \t1.2024 \t0  \t108\n",
      "60 \t3086  \t1.345  \t0  \t108\n",
      "61 \t2979  \t1.2508 \t0  \t103\n",
      "62 \t3002  \t1.387  \t0  \t111\n",
      "63 \t3018  \t1.0352 \t0  \t104\n",
      "64 \t3050  \t1.397  \t0  \t102\n",
      "65 \t3066  \t1.1026 \t0  \t60 \n",
      "66 \t2980  \t1.3678 \t0  \t107\n",
      "67 \t3029  \t1.1082 \t0  \t102\n",
      "68 \t3017  \t1.0826 \t0  \t102\n",
      "69 \t2960  \t1.2402 \t0  \t103\n",
      "70 \t2858  \t1.2294 \t0  \t102\n",
      "71 \t2935  \t1.1602 \t0  \t103\n",
      "72 \t3010  \t1.3646 \t0  \t108\n",
      "73 \t2922  \t1.2466 \t0  \t106\n",
      "74 \t2960  \t1.1482 \t0  \t105\n",
      "75 \t2932  \t1.1924 \t0  \t103\n",
      "76 \t2975  \t1.2856 \t0  \t103\n",
      "77 \t3053  \t1.2656 \t0  \t108\n",
      "78 \t3011  \t1.2524 \t0  \t102\n",
      "79 \t2948  \t1.1938 \t0  \t105\n",
      "80 \t3042  \t1.1752 \t0  \t105\n",
      "81 \t2941  \t1.4164 \t0  \t157\n",
      "82 \t3052  \t1.1584 \t0  \t105\n",
      "83 \t2979  \t1.1492 \t0  \t106\n",
      "84 \t3066  \t1.307  \t0  \t104\n",
      "85 \t3004  \t1.1008 \t0  \t115\n",
      "86 \t2990  \t1.2818 \t0  \t107\n",
      "87 \t3019  \t1.166  \t0  \t102\n",
      "88 \t2985  \t1.3008 \t0  \t104\n",
      "89 \t3005  \t1.1934 \t0  \t107\n",
      "90 \t2952  \t1.2406 \t0  \t61 \n",
      "91 \t2935  \t1.1334 \t0  \t102\n",
      "92 \t2922  \t1.2154 \t0  \t110\n",
      "93 \t2949  \t1.1476 \t0  \t103\n",
      "94 \t2958  \t1.2592 \t0  \t108\n",
      "95 \t2953  \t1.2142 \t0  \t102\n",
      "96 \t2993  \t0.8804 \t0  \t57 \n",
      "97 \t3019  \t1.365  \t0  \t156\n",
      "98 \t2989  \t1.0262 \t0  \t105\n",
      "99 \t3117  \t1.2938 \t0  \t109\n",
      "100\t2996  \t1.2178 \t0  \t102\n"
     ]
    }
   ],
   "source": [
    "pop = toolbox.population(n=5000)\n",
    "hof = tools.HallOfFame(maxsize=1)\n",
    "pop, log = algorithms.eaSimple(pop, toolbox=toolbox, cxpb=0.5, mutpb=0.2, ngen=100, stats=stats, halloffame=hof, verbose=True)"
   ]
  },
  {
   "cell_type": "markdown",
   "metadata": {},
   "source": [
    "plot the avg and min for each generation"
   ]
  },
  {
   "cell_type": "code",
   "execution_count": 15,
   "metadata": {},
   "outputs": [
    {
     "data": {
      "text/plain": "<Figure size 640x480 with 1 Axes>",
      "image/png": "[encoded data removed]"
     },
     "metadata": {},
     "output_type": "display_data"
    }
   ],
   "source": [
    "import matplotlib.pyplot as plt\n",
    "\n",
    "gen, avg, min_ = log.select(\"gen\", \"avg\", \"min\")\n",
    "plt.title(\"P - I - B\")\n",
    "plt.plot(gen, avg, label= \"average\")\n",
    "plt.plot(gen, min_, label=\"minimum\")\n",
    "\n",
    "plt.xlabel(\"Generation\")\n",
    "plt.ylabel(\"Fitness\")\n",
    "\n",
    "plt.legend(loc=\"lower right\")\n",
    "plt.show()"
   ]
  },
  {
   "cell_type": "markdown",
   "metadata": {},
   "source": [
    "# Best individual"
   ]
  },
  {
   "cell_type": "code",
   "execution_count": 16,
   "metadata": {},
   "outputs": [
    {
     "name": "stdout",
     "output_type": "stream",
     "text": [
      "best individual generation:  [1, 58, 12, 53, 22, 47, 32, 27]\n",
      "With fitness:  (0.0,)\n",
      "-|x|-|-|-|-|-|-|\n",
      "-|-|-|-|x|-|-|-|\n",
      "-|-|-|-|-|-|x|-|\n",
      "-|-|-|x|-|-|-|-|\n",
      "x|-|-|-|-|-|-|-|\n",
      "-|-|-|-|-|-|-|x|\n",
      "-|-|-|-|-|x|-|-|\n",
      "-|-|x|-|-|-|-|-|\n"
     ]
    }
   ],
   "source": [
    "print(\"best individual generation: \", hof[0])\n",
    "\n",
    "print(\"With fitness: \", hof[0].fitness)\n",
    "\n",
    "show_grid(hof[0])"
   ]
  },
  {
   "cell_type": "code",
   "execution_count": 17,
   "metadata": {},
   "outputs": [
    {
     "data": {
      "text/plain": "{'avg': 1.2178, 'min': 0.0, 'max': 102.0}"
     },
     "execution_count": 17,
     "metadata": {},
     "output_type": "execute_result"
    }
   ],
   "source": [
    "record = stats.compile(pop)\n",
    "record\n"
   ]
  }
 ],
 "metadata": {
  "kernelspec": {
   "display_name": "Python 3.10.6 64-bit",
   "language": "python",
   "name": "python3"
  },
  "language_info": {
   "codemirror_mode": {
    "name": "ipython",
    "version": 3
   },
   "file_extension": ".py",
   "mimetype": "text/x-python",
   "name": "python",
   "nbconvert_exporter": "python",
   "pygments_lexer": "ipython3",
   "version": "3.10.6"
  },
  "vscode": {
   "interpreter": {
    "hash": "31f2aee4e71d21fbe5cf8b01ff0e069b9275f58929596ceb00d14d90e3e16cd6"
   }
  }
 },
 "nbformat": 4,
 "nbformat_minor": 0
}
