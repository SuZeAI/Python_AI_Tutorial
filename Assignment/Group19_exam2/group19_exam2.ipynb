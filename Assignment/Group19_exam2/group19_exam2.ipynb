{
 "cells": [
  {
   "cell_type": "markdown",
   "metadata": {
    "collapsed": false
   },
   "source": [
    "Các em download dữ liệu đính kèm. Dựa vào các file trong thư mục train (TrainData), điền nhãn cho các file trong thư mục test\n",
    "\n",
    "(TestData_nolabel). Có 2 nhãn là spam và notspam. Ví dụ file nhãn sẽ là:\n",
    "\n",
    "0_unknown.txt,spam\n",
    "1_unknown.txt,notspam\n",
    "...\n",
    "\n",
    "Nộp file code và file nhãn.\n"
   ]
  },
  {
   "cell_type": "markdown",
   "metadata": {
    "collapsed": false
   },
   "source": [
    "# Library"
   ]
  },
  {
   "cell_type": "code",
   "execution_count": 1,
   "metadata": {
    "collapsed": true
   },
   "outputs": [],
   "source": [
    "import pandas as pd\n",
    "import numpy as np\n",
    "\n",
    "from collections import Counter\n",
    "from sklearn.metrics import accuracy_score\n",
    "from sklearn.naive_bayes import GaussianNB\n",
    "from sklearn.model_selection import train_test_split\n"
   ]
  },
  {
   "cell_type": "markdown",
   "metadata": {
    "collapsed": false
   },
   "source": [
    "# 1. Read data"
   ]
  },
  {
   "cell_type": "markdown",
   "metadata": {
    "collapsed": false
   },
   "source": [
    "## a.Read file spam"
   ]
  },
  {
   "cell_type": "code",
   "execution_count": 2,
   "metadata": {
    "collapsed": false
   },
   "outputs": [
    {
     "data": {
      "text/plain": "18"
     },
     "execution_count": 2,
     "metadata": {},
     "output_type": "execute_result"
    }
   ],
   "source": [
    "df_label: list = []\n",
    "df_content: list= []\n",
    "for i in range(18):\n",
    "    data = pd.read_csv(f\"./BaiThi2/TrainData/spam/{i}_spam.txt\")\n",
    "    df_label.append(\"spam\")\n",
    "    df_content.append(data)\n",
    "len(df_label)"
   ]
  },
  {
   "cell_type": "markdown",
   "metadata": {
    "collapsed": false
   },
   "source": [
    "## b.Read file notspam"
   ]
  },
  {
   "cell_type": "code",
   "execution_count": 3,
   "metadata": {
    "collapsed": false
   },
   "outputs": [
    {
     "data": {
      "text/plain": "193"
     },
     "execution_count": 3,
     "metadata": {},
     "output_type": "execute_result"
    }
   ],
   "source": [
    "data_label: list = []\n",
    "data_content: list = []\n",
    "for i in range(193):\n",
    "    df = pd.read_csv(f\"./BaiThi2/TrainData/notspam/{i}_notspam.txt\")\n",
    "    data_label.append(\"not_spam\")\n",
    "    data_content.append(df)\n",
    "len(data_label)"
   ]
  },
  {
   "cell_type": "markdown",
   "metadata": {
    "collapsed": false
   },
   "source": [
    "## c.Read file unknown"
   ]
  },
  {
   "cell_type": "code",
   "execution_count": 4,
   "metadata": {
    "collapsed": false
   },
   "outputs": [
    {
     "data": {
      "text/plain": "78"
     },
     "execution_count": 4,
     "metadata": {},
     "output_type": "execute_result"
    }
   ],
   "source": [
    "data_unknown: list = []\n",
    "for i in range(78):\n",
    "    dt = pd.read_csv(f\"./BaiThi2/TestData_nolabel/{i}_unknown.txt\")\n",
    "    data_unknown.append(dt)\n",
    "len(data_unknown)\n"
   ]
  },
  {
   "cell_type": "markdown",
   "metadata": {
    "collapsed": false
   },
   "source": [
    "## convert to DataFrame"
   ]
  },
  {
   "cell_type": "code",
   "execution_count": 5,
   "metadata": {
    "collapsed": false
   },
   "outputs": [
    {
     "data": {
      "text/plain": "        Label                                            Content\n0        spam                                                ...\n1        spam                                                ...\n2        spam                                                ...\n3        spam                                                ...\n4        spam                                                ...\n..        ...                                                ...\n206  not_spam                                                ...\n207  not_spam                                                ...\n208  not_spam                                                ...\n209  not_spam                                                ...\n210  not_spam                                                ...\n\n[211 rows x 2 columns]",
      "text/html": "<div>\n<style scoped>\n    .dataframe tbody tr th:only-of-type {\n        vertical-align: middle;\n    }\n\n    .dataframe tbody tr th {\n        vertical-align: top;\n    }\n\n    .dataframe thead th {\n        text-align: right;\n    }\n</style>\n<table border=\"1\" class=\"dataframe\">\n  <thead>\n    <tr style=\"text-align: right;\">\n      <th></th>\n      <th>Label</th>\n      <th>Content</th>\n    </tr>\n  </thead>\n  <tbody>\n    <tr>\n      <th>0</th>\n      <td>spam</td>\n      <td>...</td>\n    </tr>\n    <tr>\n      <th>1</th>\n      <td>spam</td>\n      <td>...</td>\n    </tr>\n    <tr>\n      <th>2</th>\n      <td>spam</td>\n      <td>...</td>\n    </tr>\n    <tr>\n      <th>3</th>\n      <td>spam</td>\n      <td>...</td>\n    </tr>\n    <tr>\n      <th>4</th>\n      <td>spam</td>\n      <td>...</td>\n    </tr>\n    <tr>\n      <th>...</th>\n      <td>...</td>\n      <td>...</td>\n    </tr>\n    <tr>\n      <th>206</th>\n      <td>not_spam</td>\n      <td>...</td>\n    </tr>\n    <tr>\n      <th>207</th>\n      <td>not_spam</td>\n      <td>...</td>\n    </tr>\n    <tr>\n      <th>208</th>\n      <td>not_spam</td>\n      <td>...</td>\n    </tr>\n    <tr>\n      <th>209</th>\n      <td>not_spam</td>\n      <td>...</td>\n    </tr>\n    <tr>\n      <th>210</th>\n      <td>not_spam</td>\n      <td>...</td>\n    </tr>\n  </tbody>\n</table>\n<p>211 rows × 2 columns</p>\n</div>"
     },
     "metadata": {},
     "output_type": "display_data"
    }
   ],
   "source": [
    "data_train = pd.DataFrame(\n",
    "    {\n",
    "        \"Label\" : pd.Series(df_label + data_label),\n",
    "        \"Content\": pd.Series(df_content + data_content)\n",
    "    }\n",
    ")\n",
    "display(data_train)"
   ]
  },
  {
   "cell_type": "markdown",
   "metadata": {
    "collapsed": false
   },
   "source": [
    "# 2. Preprocess"
   ]
  },
  {
   "cell_type": "markdown",
   "metadata": {
    "collapsed": false
   },
   "source": [
    "### chuẩn hóa"
   ]
  },
  {
   "cell_type": "code",
   "execution_count": 6,
   "metadata": {
    "collapsed": false
   },
   "outputs": [],
   "source": [
    "data_train['Label'] = data_train['Label'].apply(lambda i : 1 if i == \"spam\" else 0)"
   ]
  },
  {
   "cell_type": "code",
   "execution_count": 7,
   "metadata": {
    "collapsed": false
   },
   "outputs": [
    {
     "name": "stdout",
     "output_type": "stream",
     "text": [
      "     Label                                            Content\n",
      "0        1                                                ...\n",
      "1        1                                                ...\n",
      "2        1                                                ...\n",
      "3        1                                                ...\n",
      "4        1                                                ...\n",
      "..     ...                                                ...\n",
      "206      0                                                ...\n",
      "207      0                                                ...\n",
      "208      0                                                ...\n",
      "209      0                                                ...\n",
      "210      0                                                ...\n",
      "\n",
      "[211 rows x 2 columns]\n"
     ]
    }
   ],
   "source": [
    "print(data_train)"
   ]
  },
  {
   "cell_type": "markdown",
   "metadata": {
    "collapsed": false
   },
   "source": [
    "### Function"
   ]
  },
  {
   "cell_type": "code",
   "execution_count": 8,
   "metadata": {
    "collapsed": false
   },
   "outputs": [],
   "source": [
    "# create dictionary\n",
    "def Make_dict(data_train_content: pd.DataFrame):\n",
    "    all_word: list = []\n",
    "    for content in data_train_content:\n",
    "        word = str(content).split()\n",
    "        all_word += word\n",
    "    dictionary = Counter(all_word)\n",
    "    list_dict_remove  = dictionary.keys()\n",
    "    for key in list(list_dict_remove):\n",
    "        if key.isalpha() == False:\n",
    "            del dictionary[key]\n",
    "        elif len(key) == 1:\n",
    "            del dictionary[key]\n",
    "    dictionary = dictionary.most_common(3000)\n",
    "    return dictionary\n"
   ]
  },
  {
   "cell_type": "markdown",
   "metadata": {
    "collapsed": false
   },
   "source": []
  },
  {
   "cell_type": "code",
   "execution_count": 9,
   "metadata": {
    "collapsed": false
   },
   "outputs": [],
   "source": [
    "# create matrix, label\n",
    "def extract_features(data_train: pd.DataFrame):\n",
    "    feature_matrix = np.zeros((data_train.shape[0], 3000))\n",
    "    train_label = np.array(list(data_train['Label']))\n",
    "    docId = 0\n",
    "    for content in data_train['Content']:\n",
    "        content_used: str = \"\"\n",
    "        list_line = list(str(content).split('\\n'))\n",
    "        for i in range(1, len(list_line)):\n",
    "            content_used += list_line[i]\n",
    "        words = content_used.split()\n",
    "        for word in words:\n",
    "            wordId = 0\n",
    "            for i, dic in enumerate(dictionary):\n",
    "                if dic[0] == word:\n",
    "                    wordId = i\n",
    "                    feature_matrix[docId, wordId] = words.count(word)\n",
    "        docId += 1\n",
    "    return feature_matrix, train_label"
   ]
  },
  {
   "cell_type": "markdown",
   "metadata": {
    "collapsed": false
   },
   "source": [
    "# 3. Model"
   ]
  },
  {
   "cell_type": "markdown",
   "metadata": {
    "collapsed": false
   },
   "source": [
    "## Split data"
   ]
  },
  {
   "cell_type": "code",
   "execution_count": 10,
   "metadata": {
    "collapsed": false
   },
   "outputs": [],
   "source": [
    "train, test = train_test_split(data_train, test_size=0.15)\n",
    "pd.options.display.max_rows = 130\n"
   ]
  },
  {
   "cell_type": "code",
   "execution_count": 11,
   "metadata": {
    "collapsed": false
   },
   "outputs": [
    {
     "data": {
      "text/plain": "0    162\n1     17\nName: Label, dtype: int64"
     },
     "execution_count": 11,
     "metadata": {},
     "output_type": "execute_result"
    }
   ],
   "source": [
    "train['Label'].value_counts()"
   ]
  },
  {
   "cell_type": "code",
   "execution_count": 12,
   "metadata": {
    "collapsed": false
   },
   "outputs": [
    {
     "data": {
      "text/plain": "0    31\n1     1\nName: Label, dtype: int64"
     },
     "execution_count": 12,
     "metadata": {},
     "output_type": "execute_result"
    }
   ],
   "source": [
    "test['Label'].value_counts()"
   ]
  },
  {
   "cell_type": "markdown",
   "metadata": {},
   "source": [
    "## Model"
   ]
  },
  {
   "cell_type": "code",
   "execution_count": 13,
   "metadata": {
    "collapsed": false
   },
   "outputs": [],
   "source": [
    "dictionary = Make_dict(data_train['Content'])\n",
    "train_content, train_label = extract_features(train)\n",
    "test_content, test_label = extract_features(test)"
   ]
  },
  {
   "cell_type": "code",
   "execution_count": 14,
   "metadata": {
    "collapsed": false
   },
   "outputs": [
    {
     "data": {
      "text/plain": "GaussianNB()",
      "text/html": "<style>#sk-container-id-1 {color: black;background-color: white;}#sk-container-id-1 pre{padding: 0;}#sk-container-id-1 div.sk-toggleable {background-color: white;}#sk-container-id-1 label.sk-toggleable__label {cursor: pointer;display: block;width: 100%;margin-bottom: 0;padding: 0.3em;box-sizing: border-box;text-align: center;}#sk-container-id-1 label.sk-toggleable__label-arrow:before {content: \"▸\";float: left;margin-right: 0.25em;color: #696969;}#sk-container-id-1 label.sk-toggleable__label-arrow:hover:before {color: black;}#sk-container-id-1 div.sk-estimator:hover label.sk-toggleable__label-arrow:before {color: black;}#sk-container-id-1 div.sk-toggleable__content {max-height: 0;max-width: 0;overflow: hidden;text-align: left;background-color: #f0f8ff;}#sk-container-id-1 div.sk-toggleable__content pre {margin: 0.2em;color: black;border-radius: 0.25em;background-color: #f0f8ff;}#sk-container-id-1 input.sk-toggleable__control:checked~div.sk-toggleable__content {max-height: 200px;max-width: 100%;overflow: auto;}#sk-container-id-1 input.sk-toggleable__control:checked~label.sk-toggleable__label-arrow:before {content: \"▾\";}#sk-container-id-1 div.sk-estimator input.sk-toggleable__control:checked~label.sk-toggleable__label {background-color: #d4ebff;}#sk-container-id-1 div.sk-label input.sk-toggleable__control:checked~label.sk-toggleable__label {background-color: #d4ebff;}#sk-container-id-1 input.sk-hidden--visually {border: 0;clip: rect(1px 1px 1px 1px);clip: rect(1px, 1px, 1px, 1px);height: 1px;margin: -1px;overflow: hidden;padding: 0;position: absolute;width: 1px;}#sk-container-id-1 div.sk-estimator {font-family: monospace;background-color: #f0f8ff;border: 1px dotted black;border-radius: 0.25em;box-sizing: border-box;margin-bottom: 0.5em;}#sk-container-id-1 div.sk-estimator:hover {background-color: #d4ebff;}#sk-container-id-1 div.sk-parallel-item::after {content: \"\";width: 100%;border-bottom: 1px solid gray;flex-grow: 1;}#sk-container-id-1 div.sk-label:hover label.sk-toggleable__label {background-color: #d4ebff;}#sk-container-id-1 div.sk-serial::before {content: \"\";position: absolute;border-left: 1px solid gray;box-sizing: border-box;top: 0;bottom: 0;left: 50%;z-index: 0;}#sk-container-id-1 div.sk-serial {display: flex;flex-direction: column;align-items: center;background-color: white;padding-right: 0.2em;padding-left: 0.2em;position: relative;}#sk-container-id-1 div.sk-item {position: relative;z-index: 1;}#sk-container-id-1 div.sk-parallel {display: flex;align-items: stretch;justify-content: center;background-color: white;position: relative;}#sk-container-id-1 div.sk-item::before, #sk-container-id-1 div.sk-parallel-item::before {content: \"\";position: absolute;border-left: 1px solid gray;box-sizing: border-box;top: 0;bottom: 0;left: 50%;z-index: -1;}#sk-container-id-1 div.sk-parallel-item {display: flex;flex-direction: column;z-index: 1;position: relative;background-color: white;}#sk-container-id-1 div.sk-parallel-item:first-child::after {align-self: flex-end;width: 50%;}#sk-container-id-1 div.sk-parallel-item:last-child::after {align-self: flex-start;width: 50%;}#sk-container-id-1 div.sk-parallel-item:only-child::after {width: 0;}#sk-container-id-1 div.sk-dashed-wrapped {border: 1px dashed gray;margin: 0 0.4em 0.5em 0.4em;box-sizing: border-box;padding-bottom: 0.4em;background-color: white;}#sk-container-id-1 div.sk-label label {font-family: monospace;font-weight: bold;display: inline-block;line-height: 1.2em;}#sk-container-id-1 div.sk-label-container {text-align: center;}#sk-container-id-1 div.sk-container {/* jupyter's `normalize.less` sets `[hidden] { display: none; }` but bootstrap.min.css set `[hidden] { display: none !important; }` so we also need the `!important` here to be able to override the default hidden behavior on the sphinx rendered scikit-learn.org. See: https://github.com/scikit-learn/scikit-learn/issues/21755 */display: inline-block !important;position: relative;}#sk-container-id-1 div.sk-text-repr-fallback {display: none;}</style><div id=\"sk-container-id-1\" class=\"sk-top-container\"><div class=\"sk-text-repr-fallback\"><pre>GaussianNB()</pre><b>In a Jupyter environment, please rerun this cell to show the HTML representation or trust the notebook. <br />On GitHub, the HTML representation is unable to render, please try loading this page with nbviewer.org.</b></div><div class=\"sk-container\" hidden><div class=\"sk-item\"><div class=\"sk-estimator sk-toggleable\"><input class=\"sk-toggleable__control sk-hidden--visually\" id=\"sk-estimator-id-1\" type=\"checkbox\" checked><label for=\"sk-estimator-id-1\" class=\"sk-toggleable__label sk-toggleable__label-arrow\">GaussianNB</label><div class=\"sk-toggleable__content\"><pre>GaussianNB()</pre></div></div></div></div></div>"
     },
     "execution_count": 14,
     "metadata": {},
     "output_type": "execute_result"
    }
   ],
   "source": [
    "gau = GaussianNB()\n",
    "gau.fit(train_content, train_label)"
   ]
  },
  {
   "cell_type": "code",
   "execution_count": 15,
   "metadata": {
    "collapsed": false
   },
   "outputs": [
    {
     "name": "stdout",
     "output_type": "stream",
     "text": [
      "accuracy_score:  0.96875\n"
     ]
    }
   ],
   "source": [
    "label_pre = gau.predict(test_content)\n",
    "print(\"accuracy_score: \", accuracy_score(label_pre, test_label))"
   ]
  },
  {
   "cell_type": "code",
   "execution_count": 16,
   "metadata": {
    "collapsed": false
   },
   "outputs": [
    {
     "name": "stdout",
     "output_type": "stream",
     "text": [
      "[0 0 0 0 0 0 0 0 0 0 0 0 0 0 0 0 0 0 0 0 0 0 0 0 0 0 0 0 0 0 0 0]\n"
     ]
    }
   ],
   "source": [
    "print(label_pre)"
   ]
  },
  {
   "cell_type": "markdown",
   "metadata": {
    "collapsed": false
   },
   "source": [
    "## predict"
   ]
  },
  {
   "cell_type": "code",
   "execution_count": 17,
   "metadata": {
    "collapsed": false
   },
   "outputs": [],
   "source": [
    "tmp_label = [0] * 78\n",
    "data_nolabel = pd.DataFrame(\n",
    "    {\n",
    "        \"Label\" : pd.Series(tmp_label),\n",
    "        \"Content\" : pd.Series(data_unknown)\n",
    "    }\n",
    ")"
   ]
  },
  {
   "cell_type": "code",
   "execution_count": 18,
   "metadata": {
    "collapsed": false
   },
   "outputs": [
    {
     "data": {
      "text/plain": "    Label                                            Content\n0       0                                                ...\n1       0                                                ...\n2       0        Subject: query : tagalog philippine info...\n3       0                                                ...\n4       0                                                ...\n5       0                                                ...\n6       0                                                ...\n7       0                                                ...\n8       0                                                ...\n9       0                                                ...\n10      0    Subject: 4th nottingham international system...\n11      0                                                ...\n12      0                                                ...\n13      0                                                ...\n14      0                                                ...\n15      0                                                ...\n16      0                                                ...\n17      0                                                ...\n18      0                                                ...\n19      0                                                ...\n20      0                                                ...\n21      0                                                ...\n22      0                                                ...\n23      0    Subject: re : 3 . 402 queries : language - s...\n24      0                                                ...\n25      0                                                ...\n26      0                                                ...\n27      0                                                ...\n28      0                                                ...\n29      0               Subject: re : 3 . 404 chomsky cit...\n30      0                                                ...\n31      0                                                ...\n32      0                                                ...\n33      0                                                ...\n34      0                                                ...\n35      0                                                ...\n36      0                                                ...\n37      0                                                ...\n38      0                                                ...\n39      0                                                ...\n40      0                                                ...\n41      0                                                ...\n42      0                                                ...\n43      0                                                ...\n44      0                                                ...\n45      0                                                ...\n46      0                                                ...\n47      0                                                ...\n48      0                                           Subje...\n49      0                                                ...\n50      0                                                ...\n51      0                                                ...\n52      0                                                ...\n53      0                                                ...\n54      0                                                ...\n55      0                                             Sub...\n56      0                                                ...\n57      0                                                ...\n58      0                                                ...\n59      0                                                ...\n60      0                                                ...\n61      0                                                ...\n62      0                                                ...\n63      0                                                ...\n64      0                                                ...\n65      0                                                ...\n66      0                                                ...\n67      0                                                ...\n68      0                                                ...\n69      0                                                ...\n70      0                                                ...\n71      0                                                ...\n72      0                                                ...\n73      0                                                ...\n74      0                                                ...\n75      0                                                ...\n76      0                                                ...\n77      0                       Subject: free promotional...",
      "text/html": "<div>\n<style scoped>\n    .dataframe tbody tr th:only-of-type {\n        vertical-align: middle;\n    }\n\n    .dataframe tbody tr th {\n        vertical-align: top;\n    }\n\n    .dataframe thead th {\n        text-align: right;\n    }\n</style>\n<table border=\"1\" class=\"dataframe\">\n  <thead>\n    <tr style=\"text-align: right;\">\n      <th></th>\n      <th>Label</th>\n      <th>Content</th>\n    </tr>\n  </thead>\n  <tbody>\n    <tr>\n      <th>0</th>\n      <td>0</td>\n      <td>...</td>\n    </tr>\n    <tr>\n      <th>1</th>\n      <td>0</td>\n      <td>...</td>\n    </tr>\n    <tr>\n      <th>2</th>\n      <td>0</td>\n      <td>Subject: query : tagalog philippine info...</td>\n    </tr>\n    <tr>\n      <th>3</th>\n      <td>0</td>\n      <td>...</td>\n    </tr>\n    <tr>\n      <th>4</th>\n      <td>0</td>\n      <td>...</td>\n    </tr>\n    <tr>\n      <th>5</th>\n      <td>0</td>\n      <td>...</td>\n    </tr>\n    <tr>\n      <th>6</th>\n      <td>0</td>\n      <td>...</td>\n    </tr>\n    <tr>\n      <th>7</th>\n      <td>0</td>\n      <td>...</td>\n    </tr>\n    <tr>\n      <th>8</th>\n      <td>0</td>\n      <td>...</td>\n    </tr>\n    <tr>\n      <th>9</th>\n      <td>0</td>\n      <td>...</td>\n    </tr>\n    <tr>\n      <th>10</th>\n      <td>0</td>\n      <td>Subject: 4th nottingham international system...</td>\n    </tr>\n    <tr>\n      <th>11</th>\n      <td>0</td>\n      <td>...</td>\n    </tr>\n    <tr>\n      <th>12</th>\n      <td>0</td>\n      <td>...</td>\n    </tr>\n    <tr>\n      <th>13</th>\n      <td>0</td>\n      <td>...</td>\n    </tr>\n    <tr>\n      <th>14</th>\n      <td>0</td>\n      <td>...</td>\n    </tr>\n    <tr>\n      <th>15</th>\n      <td>0</td>\n      <td>...</td>\n    </tr>\n    <tr>\n      <th>16</th>\n      <td>0</td>\n      <td>...</td>\n    </tr>\n    <tr>\n      <th>17</th>\n      <td>0</td>\n      <td>...</td>\n    </tr>\n    <tr>\n      <th>18</th>\n      <td>0</td>\n      <td>...</td>\n    </tr>\n    <tr>\n      <th>19</th>\n      <td>0</td>\n      <td>...</td>\n    </tr>\n    <tr>\n      <th>20</th>\n      <td>0</td>\n      <td>...</td>\n    </tr>\n    <tr>\n      <th>21</th>\n      <td>0</td>\n      <td>...</td>\n    </tr>\n    <tr>\n      <th>22</th>\n      <td>0</td>\n      <td>...</td>\n    </tr>\n    <tr>\n      <th>23</th>\n      <td>0</td>\n      <td>Subject: re : 3 . 402 queries : language - s...</td>\n    </tr>\n    <tr>\n      <th>24</th>\n      <td>0</td>\n      <td>...</td>\n    </tr>\n    <tr>\n      <th>25</th>\n      <td>0</td>\n      <td>...</td>\n    </tr>\n    <tr>\n      <th>26</th>\n      <td>0</td>\n      <td>...</td>\n    </tr>\n    <tr>\n      <th>27</th>\n      <td>0</td>\n      <td>...</td>\n    </tr>\n    <tr>\n      <th>28</th>\n      <td>0</td>\n      <td>...</td>\n    </tr>\n    <tr>\n      <th>29</th>\n      <td>0</td>\n      <td>Subject: re : 3 . 404 chomsky cit...</td>\n    </tr>\n    <tr>\n      <th>30</th>\n      <td>0</td>\n      <td>...</td>\n    </tr>\n    <tr>\n      <th>31</th>\n      <td>0</td>\n      <td>...</td>\n    </tr>\n    <tr>\n      <th>32</th>\n      <td>0</td>\n      <td>...</td>\n    </tr>\n    <tr>\n      <th>33</th>\n      <td>0</td>\n      <td>...</td>\n    </tr>\n    <tr>\n      <th>34</th>\n      <td>0</td>\n      <td>...</td>\n    </tr>\n    <tr>\n      <th>35</th>\n      <td>0</td>\n      <td>...</td>\n    </tr>\n    <tr>\n      <th>36</th>\n      <td>0</td>\n      <td>...</td>\n    </tr>\n    <tr>\n      <th>37</th>\n      <td>0</td>\n      <td>...</td>\n    </tr>\n    <tr>\n      <th>38</th>\n      <td>0</td>\n      <td>...</td>\n    </tr>\n    <tr>\n      <th>39</th>\n      <td>0</td>\n      <td>...</td>\n    </tr>\n    <tr>\n      <th>40</th>\n      <td>0</td>\n      <td>...</td>\n    </tr>\n    <tr>\n      <th>41</th>\n      <td>0</td>\n      <td>...</td>\n    </tr>\n    <tr>\n      <th>42</th>\n      <td>0</td>\n      <td>...</td>\n    </tr>\n    <tr>\n      <th>43</th>\n      <td>0</td>\n      <td>...</td>\n    </tr>\n    <tr>\n      <th>44</th>\n      <td>0</td>\n      <td>...</td>\n    </tr>\n    <tr>\n      <th>45</th>\n      <td>0</td>\n      <td>...</td>\n    </tr>\n    <tr>\n      <th>46</th>\n      <td>0</td>\n      <td>...</td>\n    </tr>\n    <tr>\n      <th>47</th>\n      <td>0</td>\n      <td>...</td>\n    </tr>\n    <tr>\n      <th>48</th>\n      <td>0</td>\n      <td>Subje...</td>\n    </tr>\n    <tr>\n      <th>49</th>\n      <td>0</td>\n      <td>...</td>\n    </tr>\n    <tr>\n      <th>50</th>\n      <td>0</td>\n      <td>...</td>\n    </tr>\n    <tr>\n      <th>51</th>\n      <td>0</td>\n      <td>...</td>\n    </tr>\n    <tr>\n      <th>52</th>\n      <td>0</td>\n      <td>...</td>\n    </tr>\n    <tr>\n      <th>53</th>\n      <td>0</td>\n      <td>...</td>\n    </tr>\n    <tr>\n      <th>54</th>\n      <td>0</td>\n      <td>...</td>\n    </tr>\n    <tr>\n      <th>55</th>\n      <td>0</td>\n      <td>Sub...</td>\n    </tr>\n    <tr>\n      <th>56</th>\n      <td>0</td>\n      <td>...</td>\n    </tr>\n    <tr>\n      <th>57</th>\n      <td>0</td>\n      <td>...</td>\n    </tr>\n    <tr>\n      <th>58</th>\n      <td>0</td>\n      <td>...</td>\n    </tr>\n    <tr>\n      <th>59</th>\n      <td>0</td>\n      <td>...</td>\n    </tr>\n    <tr>\n      <th>60</th>\n      <td>0</td>\n      <td>...</td>\n    </tr>\n    <tr>\n      <th>61</th>\n      <td>0</td>\n      <td>...</td>\n    </tr>\n    <tr>\n      <th>62</th>\n      <td>0</td>\n      <td>...</td>\n    </tr>\n    <tr>\n      <th>63</th>\n      <td>0</td>\n      <td>...</td>\n    </tr>\n    <tr>\n      <th>64</th>\n      <td>0</td>\n      <td>...</td>\n    </tr>\n    <tr>\n      <th>65</th>\n      <td>0</td>\n      <td>...</td>\n    </tr>\n    <tr>\n      <th>66</th>\n      <td>0</td>\n      <td>...</td>\n    </tr>\n    <tr>\n      <th>67</th>\n      <td>0</td>\n      <td>...</td>\n    </tr>\n    <tr>\n      <th>68</th>\n      <td>0</td>\n      <td>...</td>\n    </tr>\n    <tr>\n      <th>69</th>\n      <td>0</td>\n      <td>...</td>\n    </tr>\n    <tr>\n      <th>70</th>\n      <td>0</td>\n      <td>...</td>\n    </tr>\n    <tr>\n      <th>71</th>\n      <td>0</td>\n      <td>...</td>\n    </tr>\n    <tr>\n      <th>72</th>\n      <td>0</td>\n      <td>...</td>\n    </tr>\n    <tr>\n      <th>73</th>\n      <td>0</td>\n      <td>...</td>\n    </tr>\n    <tr>\n      <th>74</th>\n      <td>0</td>\n      <td>...</td>\n    </tr>\n    <tr>\n      <th>75</th>\n      <td>0</td>\n      <td>...</td>\n    </tr>\n    <tr>\n      <th>76</th>\n      <td>0</td>\n      <td>...</td>\n    </tr>\n    <tr>\n      <th>77</th>\n      <td>0</td>\n      <td>Subject: free promotional...</td>\n    </tr>\n  </tbody>\n</table>\n</div>"
     },
     "execution_count": 18,
     "metadata": {},
     "output_type": "execute_result"
    }
   ],
   "source": [
    "data_nolabel"
   ]
  },
  {
   "cell_type": "code",
   "execution_count": 19,
   "metadata": {
    "collapsed": false
   },
   "outputs": [],
   "source": [
    "df_unknown, label_tmp = extract_features(data_nolabel)"
   ]
  },
  {
   "cell_type": "code",
   "execution_count": 20,
   "metadata": {
    "collapsed": false
   },
   "outputs": [],
   "source": [
    "# predict result\n",
    "result = gau.predict(df_unknown)"
   ]
  },
  {
   "cell_type": "code",
   "execution_count": 21,
   "metadata": {
    "collapsed": false
   },
   "outputs": [
    {
     "name": "stdout",
     "output_type": "stream",
     "text": [
      "['notspam', 'notspam', 'notspam', 'notspam', 'notspam', 'notspam', 'notspam', 'notspam', 'notspam', 'notspam', 'notspam', 'notspam', 'notspam', 'notspam', 'notspam', 'notspam', 'notspam', 'notspam', 'notspam', 'notspam', 'notspam', 'notspam', 'notspam', 'notspam', 'notspam', 'notspam', 'notspam', 'notspam', 'notspam', 'notspam', 'notspam', 'notspam', 'notspam', 'notspam', 'notspam', 'notspam', 'notspam', 'notspam', 'notspam', 'notspam', 'notspam', 'notspam', 'notspam', 'notspam', 'notspam', 'notspam', 'notspam', 'notspam', 'notspam', 'notspam', 'spam', 'spam', 'spam', 'notspam', 'notspam', 'notspam', 'spam', 'notspam', 'notspam', 'notspam', 'spam', 'notspam', 'spam', 'notspam', 'notspam', 'notspam', 'notspam', 'notspam', 'notspam', 'notspam', 'notspam', 'notspam', 'notspam', 'spam', 'notspam', 'notspam', 'spam', 'spam']\n"
     ]
    }
   ],
   "source": [
    "result = pd.Series(result)\n",
    "result = result.apply(lambda v : \"spam\" if v == 1 else \"notspam\")\n",
    "result = list(result)\n",
    "print(result)"
   ]
  },
  {
   "cell_type": "markdown",
   "metadata": {
    "collapsed": false
   },
   "source": [
    "### file label"
   ]
  },
  {
   "cell_type": "code",
   "execution_count": 22,
   "metadata": {
    "collapsed": false
   },
   "outputs": [],
   "source": [
    "with open(\"file_label.txt\", \"w\") as f:\n",
    "    for i in range(78):\n",
    "        s = f\"{i}_unknown.txt, {result[i]}\"\n",
    "        f.write(s + \"\\n\")"
   ]
  }
 ],
 "metadata": {
  "kernelspec": {
   "display_name": "Python 3.8.10 64-bit",
   "language": "python",
   "name": "python3"
  },
  "language_info": {
   "codemirror_mode": {
    "name": "ipython",
    "version": 3
   },
   "file_extension": ".py",
   "mimetype": "text/x-python",
   "name": "python",
   "nbconvert_exporter": "python",
   "pygments_lexer": "ipython3",
   "version": "3.8.10"
  },
  "vscode": {
   "interpreter": {
    "hash": "5b3ded1ccb95c1d9bd405e7b823d9e85424cde40fbb5985eb47e999ef50e15b4"
   }
  }
 },
 "nbformat": 4,
 "nbformat_minor": 0
}
