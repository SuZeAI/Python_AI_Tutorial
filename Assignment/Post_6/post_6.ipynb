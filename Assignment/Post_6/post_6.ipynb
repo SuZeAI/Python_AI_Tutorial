{
 "cells": [
  {
   "cell_type": "markdown",
   "metadata": {
    "collapsed": false
   },
   "source": [
    "## Thực hiện phân loại nhị phân dùng học sâu với dữ liệu đính kèm. Cột đầu là nhãn của email (ham và spam), cột thứ 2 là nội dung email.\n",
    "## Chụp ảnh màn hình kết quả và nộp."
   ]
  },
  {
   "cell_type": "markdown",
   "metadata": {
    "collapsed": false
   },
   "source": [
    "# Library"
   ]
  },
  {
   "cell_type": "code",
   "execution_count": 123,
   "metadata": {
    "collapsed": true
   },
   "outputs": [],
   "source": [
    "import pandas as pd\n",
    "import numpy as np\n",
    "\n",
    "import matplotlib.pyplot as plt\n",
    "import seaborn as sns\n",
    "\n",
    "from collections import Counter\n",
    "\n",
    "from sklearn.naive_bayes import GaussianNB\n",
    "from sklearn.model_selection import train_test_split\n",
    "from sklearn.metrics import accuracy_score"
   ]
  },
  {
   "cell_type": "markdown",
   "metadata": {},
   "source": []
  },
  {
   "cell_type": "markdown",
   "source": [
    "# Read data"
   ],
   "metadata": {
    "collapsed": false
   }
  },
  {
   "cell_type": "code",
   "execution_count": 124,
   "metadata": {
    "collapsed": false
   },
   "outputs": [],
   "source": [
    "data = pd.read_csv(\"./file_csv/spam1.csv\")"
   ]
  },
  {
   "cell_type": "markdown",
   "source": [
    "# Process data"
   ],
   "metadata": {
    "collapsed": false
   }
  },
  {
   "cell_type": "code",
   "execution_count": 125,
   "outputs": [],
   "source": [
    "data['v1'] = data['v1'].apply(lambda v : 1 if v == 'ham' else 0)"
   ],
   "metadata": {
    "collapsed": false
   }
  },
  {
   "cell_type": "markdown",
   "source": [],
   "metadata": {
    "collapsed": false
   }
  },
  {
   "cell_type": "markdown",
   "source": [
    "## function"
   ],
   "metadata": {
    "collapsed": false
   }
  },
  {
   "cell_type": "code",
   "execution_count": 126,
   "outputs": [],
   "source": [
    "# create dictionary\n",
    "def Make_dict(data_train_content: pd.DataFrame):\n",
    "    all_word: list = []\n",
    "    for content in data_train_content:\n",
    "        word = str(content).split()\n",
    "        all_word += word\n",
    "    dictionary = Counter(all_word)\n",
    "    list_dict_remove  = dictionary.keys()\n",
    "    for key in list(list_dict_remove):\n",
    "        if key.isalpha() == False:\n",
    "            del dictionary[key]\n",
    "        elif len(key) == 1 or len(key) == 2 :\n",
    "            del dictionary[key]\n",
    "    dictionary = dictionary.most_common(3000)\n",
    "    return dictionary\n"
   ],
   "metadata": {
    "collapsed": false
   }
  },
  {
   "cell_type": "code",
   "execution_count": 127,
   "outputs": [],
   "source": [
    "# create matrix, label\n",
    "def extract_features(data_train: pd.DataFrame):\n",
    "    feature_matrix = np.zeros((data_train.shape[0], 3000))\n",
    "    train_label = np.array(list(data_train['Label']))\n",
    "    docId = 0\n",
    "    for content in data_train['Content']:\n",
    "        words = str(content).split()\n",
    "        for word in words:\n",
    "            wordId = 0\n",
    "            for i, dic in enumerate(dictionary):\n",
    "                if dic[0] == word:\n",
    "                    wordId = i\n",
    "                    feature_matrix[docId, wordId] = words.count(word)\n",
    "        docId += 1\n",
    "    return feature_matrix, train_label"
   ],
   "metadata": {
    "collapsed": false
   }
  },
  {
   "cell_type": "markdown",
   "source": [
    "# split data"
   ],
   "metadata": {
    "collapsed": false
   }
  },
  {
   "cell_type": "code",
   "execution_count": 128,
   "outputs": [],
   "source": [
    "data_train_root = pd.DataFrame(\n",
    "    {\n",
    "        \"Label\" : data['v1'],\n",
    "        \"Content\": data['v2']\n",
    "    }\n",
    ")"
   ],
   "metadata": {
    "collapsed": false
   }
  },
  {
   "cell_type": "code",
   "execution_count": 129,
   "outputs": [],
   "source": [
    "data_train, data_test = train_test_split(data_train_root, test_size=0.2)"
   ],
   "metadata": {
    "collapsed": false
   }
  },
  {
   "cell_type": "markdown",
   "source": [
    "# model"
   ],
   "metadata": {
    "collapsed": false
   }
  },
  {
   "cell_type": "code",
   "execution_count": 130,
   "outputs": [],
   "source": [
    "dictionary = Make_dict(data_train_root['Content'])\n",
    "data_matrix, label = extract_features(data_train)\n",
    "data_matrix_T, label_T = extract_features(data_test)\n"
   ],
   "metadata": {
    "collapsed": false
   }
  },
  {
   "cell_type": "code",
   "execution_count": 131,
   "outputs": [
    {
     "data": {
      "text/plain": "GaussianNB()"
     },
     "execution_count": 131,
     "metadata": {},
     "output_type": "execute_result"
    }
   ],
   "source": [
    "gau = GaussianNB()\n",
    "gau.fit(data_matrix, label)"
   ],
   "metadata": {
    "collapsed": false
   }
  },
  {
   "cell_type": "markdown",
   "source": [
    "## predict"
   ],
   "metadata": {
    "collapsed": false
   }
  },
  {
   "cell_type": "code",
   "execution_count": 132,
   "outputs": [
    {
     "name": "stdout",
     "output_type": "stream",
     "text": [
      "accuracy_score:  0.8518850987432675\n"
     ]
    }
   ],
   "source": [
    "label_pre = gau.predict(data_matrix_T)\n",
    "print(\"accuracy_score: \", accuracy_score(label_pre, label_T))"
   ],
   "metadata": {
    "collapsed": false
   }
  }
 ],
 "metadata": {
  "kernelspec": {
   "display_name": "Python 3.8.10 ('venv': venv)",
   "language": "python",
   "name": "python3"
  },
  "language_info": {
   "codemirror_mode": {
    "name": "ipython",
    "version": 3
   },
   "file_extension": ".py",
   "mimetype": "text/x-python",
   "name": "python",
   "nbconvert_exporter": "python",
   "pygments_lexer": "ipython3",
   "version": "3.8.10"
  },
  "vscode": {
   "interpreter": {
    "hash": "e55b83d6df438020cc47c28f342b5e06866686edd0af7a202f52dde0fd1e4a89"
   }
  }
 },
 "nbformat": 4,
 "nbformat_minor": 0
}
