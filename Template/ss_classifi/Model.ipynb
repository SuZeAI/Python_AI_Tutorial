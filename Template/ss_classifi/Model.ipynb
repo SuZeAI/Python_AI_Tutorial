{
  "cells": [
    {
      "cell_type": "code",
      "execution_count": 39,
      "metadata": {
        "id": "Md6ousiMCbub"
      },
      "outputs": [],
      "source": [
        "import pandas as pd\n",
        "import numpy as np\n",
        "from pathlib import Path\n",
        "import matplotlib.pyplot as plt\n",
        "import json\n",
        "from sklearn.preprocessing import LabelEncoder"
      ]
    },
    {
      "cell_type": "code",
      "execution_count": 40,
      "metadata": {},
      "outputs": [],
      "source": [
        "# https://github.com/ml-tooling/best-of-ml-python\n",
        "# https://pycaret.org/"
      ]
    },
    {
      "cell_type": "code",
      "execution_count": 41,
      "metadata": {
        "id": "1ECFW_j7HHH2"
      },
      "outputs": [],
      "source": [
        "data_raw = \"./train_PTIT.csv\"\n",
        "df = pd.read_csv(data_raw)"
      ]
    },
    {
      "cell_type": "code",
      "execution_count": 42,
      "metadata": {
        "colab": {
          "base_uri": "https://localhost:8080/",
          "height": 424
        },
        "id": "2pgYhXSKHObu",
        "outputId": "ea7e443e-0c2f-4282-f128-dda5c77f82db"
      },
      "outputs": [
        {
          "data": {
            "text/html": [
              "<div>\n",
              "<style scoped>\n",
              "    .dataframe tbody tr th:only-of-type {\n",
              "        vertical-align: middle;\n",
              "    }\n",
              "\n",
              "    .dataframe tbody tr th {\n",
              "        vertical-align: top;\n",
              "    }\n",
              "\n",
              "    .dataframe thead th {\n",
              "        text-align: right;\n",
              "    }\n",
              "</style>\n",
              "<table border=\"1\" class=\"dataframe\">\n",
              "  <thead>\n",
              "    <tr style=\"text-align: right;\">\n",
              "      <th></th>\n",
              "      <th>w_0</th>\n",
              "      <th>w_1</th>\n",
              "      <th>w_2</th>\n",
              "      <th>w_3</th>\n",
              "      <th>w_4</th>\n",
              "      <th>w_5</th>\n",
              "      <th>w_6</th>\n",
              "      <th>w_7</th>\n",
              "      <th>w_8</th>\n",
              "      <th>w_9</th>\n",
              "      <th>...</th>\n",
              "      <th>w_1424</th>\n",
              "      <th>w_1425</th>\n",
              "      <th>w_1426</th>\n",
              "      <th>w_1427</th>\n",
              "      <th>w_1428</th>\n",
              "      <th>w_1429</th>\n",
              "      <th>w_1430</th>\n",
              "      <th>w_1431</th>\n",
              "      <th>w_1432</th>\n",
              "      <th>subject</th>\n",
              "    </tr>\n",
              "  </thead>\n",
              "  <tbody>\n",
              "    <tr>\n",
              "      <th>0</th>\n",
              "      <td>0</td>\n",
              "      <td>0</td>\n",
              "      <td>0</td>\n",
              "      <td>0</td>\n",
              "      <td>0</td>\n",
              "      <td>0</td>\n",
              "      <td>0</td>\n",
              "      <td>0</td>\n",
              "      <td>0</td>\n",
              "      <td>0</td>\n",
              "      <td>...</td>\n",
              "      <td>0</td>\n",
              "      <td>0</td>\n",
              "      <td>0</td>\n",
              "      <td>0</td>\n",
              "      <td>0</td>\n",
              "      <td>0</td>\n",
              "      <td>0</td>\n",
              "      <td>0</td>\n",
              "      <td>0</td>\n",
              "      <td>Probabilistic_Methods</td>\n",
              "    </tr>\n",
              "    <tr>\n",
              "      <th>1</th>\n",
              "      <td>0</td>\n",
              "      <td>0</td>\n",
              "      <td>0</td>\n",
              "      <td>0</td>\n",
              "      <td>0</td>\n",
              "      <td>0</td>\n",
              "      <td>0</td>\n",
              "      <td>0</td>\n",
              "      <td>0</td>\n",
              "      <td>0</td>\n",
              "      <td>...</td>\n",
              "      <td>0</td>\n",
              "      <td>0</td>\n",
              "      <td>0</td>\n",
              "      <td>0</td>\n",
              "      <td>0</td>\n",
              "      <td>0</td>\n",
              "      <td>0</td>\n",
              "      <td>0</td>\n",
              "      <td>0</td>\n",
              "      <td>Neural_Networks</td>\n",
              "    </tr>\n",
              "    <tr>\n",
              "      <th>2</th>\n",
              "      <td>0</td>\n",
              "      <td>0</td>\n",
              "      <td>0</td>\n",
              "      <td>0</td>\n",
              "      <td>0</td>\n",
              "      <td>0</td>\n",
              "      <td>0</td>\n",
              "      <td>0</td>\n",
              "      <td>0</td>\n",
              "      <td>0</td>\n",
              "      <td>...</td>\n",
              "      <td>0</td>\n",
              "      <td>1</td>\n",
              "      <td>0</td>\n",
              "      <td>0</td>\n",
              "      <td>0</td>\n",
              "      <td>0</td>\n",
              "      <td>0</td>\n",
              "      <td>0</td>\n",
              "      <td>0</td>\n",
              "      <td>Genetic_Algorithms</td>\n",
              "    </tr>\n",
              "    <tr>\n",
              "      <th>3</th>\n",
              "      <td>0</td>\n",
              "      <td>0</td>\n",
              "      <td>0</td>\n",
              "      <td>0</td>\n",
              "      <td>0</td>\n",
              "      <td>0</td>\n",
              "      <td>0</td>\n",
              "      <td>0</td>\n",
              "      <td>0</td>\n",
              "      <td>0</td>\n",
              "      <td>...</td>\n",
              "      <td>0</td>\n",
              "      <td>0</td>\n",
              "      <td>0</td>\n",
              "      <td>0</td>\n",
              "      <td>0</td>\n",
              "      <td>0</td>\n",
              "      <td>0</td>\n",
              "      <td>0</td>\n",
              "      <td>0</td>\n",
              "      <td>Rule_Learning</td>\n",
              "    </tr>\n",
              "    <tr>\n",
              "      <th>4</th>\n",
              "      <td>0</td>\n",
              "      <td>0</td>\n",
              "      <td>0</td>\n",
              "      <td>0</td>\n",
              "      <td>0</td>\n",
              "      <td>0</td>\n",
              "      <td>0</td>\n",
              "      <td>0</td>\n",
              "      <td>0</td>\n",
              "      <td>0</td>\n",
              "      <td>...</td>\n",
              "      <td>0</td>\n",
              "      <td>0</td>\n",
              "      <td>0</td>\n",
              "      <td>0</td>\n",
              "      <td>0</td>\n",
              "      <td>0</td>\n",
              "      <td>0</td>\n",
              "      <td>0</td>\n",
              "      <td>0</td>\n",
              "      <td>Genetic_Algorithms</td>\n",
              "    </tr>\n",
              "    <tr>\n",
              "      <th>...</th>\n",
              "      <td>...</td>\n",
              "      <td>...</td>\n",
              "      <td>...</td>\n",
              "      <td>...</td>\n",
              "      <td>...</td>\n",
              "      <td>...</td>\n",
              "      <td>...</td>\n",
              "      <td>...</td>\n",
              "      <td>...</td>\n",
              "      <td>...</td>\n",
              "      <td>...</td>\n",
              "      <td>...</td>\n",
              "      <td>...</td>\n",
              "      <td>...</td>\n",
              "      <td>...</td>\n",
              "      <td>...</td>\n",
              "      <td>...</td>\n",
              "      <td>...</td>\n",
              "      <td>...</td>\n",
              "      <td>...</td>\n",
              "      <td>...</td>\n",
              "    </tr>\n",
              "    <tr>\n",
              "      <th>2432</th>\n",
              "      <td>0</td>\n",
              "      <td>0</td>\n",
              "      <td>0</td>\n",
              "      <td>0</td>\n",
              "      <td>0</td>\n",
              "      <td>0</td>\n",
              "      <td>0</td>\n",
              "      <td>0</td>\n",
              "      <td>0</td>\n",
              "      <td>0</td>\n",
              "      <td>...</td>\n",
              "      <td>0</td>\n",
              "      <td>0</td>\n",
              "      <td>0</td>\n",
              "      <td>0</td>\n",
              "      <td>0</td>\n",
              "      <td>0</td>\n",
              "      <td>0</td>\n",
              "      <td>0</td>\n",
              "      <td>0</td>\n",
              "      <td>Genetic_Algorithms</td>\n",
              "    </tr>\n",
              "    <tr>\n",
              "      <th>2433</th>\n",
              "      <td>0</td>\n",
              "      <td>0</td>\n",
              "      <td>0</td>\n",
              "      <td>0</td>\n",
              "      <td>0</td>\n",
              "      <td>0</td>\n",
              "      <td>0</td>\n",
              "      <td>0</td>\n",
              "      <td>0</td>\n",
              "      <td>0</td>\n",
              "      <td>...</td>\n",
              "      <td>0</td>\n",
              "      <td>0</td>\n",
              "      <td>0</td>\n",
              "      <td>0</td>\n",
              "      <td>0</td>\n",
              "      <td>0</td>\n",
              "      <td>0</td>\n",
              "      <td>0</td>\n",
              "      <td>0</td>\n",
              "      <td>Theory</td>\n",
              "    </tr>\n",
              "    <tr>\n",
              "      <th>2434</th>\n",
              "      <td>0</td>\n",
              "      <td>0</td>\n",
              "      <td>0</td>\n",
              "      <td>0</td>\n",
              "      <td>0</td>\n",
              "      <td>0</td>\n",
              "      <td>0</td>\n",
              "      <td>0</td>\n",
              "      <td>0</td>\n",
              "      <td>0</td>\n",
              "      <td>...</td>\n",
              "      <td>0</td>\n",
              "      <td>0</td>\n",
              "      <td>0</td>\n",
              "      <td>0</td>\n",
              "      <td>0</td>\n",
              "      <td>0</td>\n",
              "      <td>0</td>\n",
              "      <td>0</td>\n",
              "      <td>0</td>\n",
              "      <td>Probabilistic_Methods</td>\n",
              "    </tr>\n",
              "    <tr>\n",
              "      <th>2435</th>\n",
              "      <td>0</td>\n",
              "      <td>0</td>\n",
              "      <td>0</td>\n",
              "      <td>1</td>\n",
              "      <td>0</td>\n",
              "      <td>0</td>\n",
              "      <td>0</td>\n",
              "      <td>0</td>\n",
              "      <td>0</td>\n",
              "      <td>0</td>\n",
              "      <td>...</td>\n",
              "      <td>0</td>\n",
              "      <td>0</td>\n",
              "      <td>0</td>\n",
              "      <td>0</td>\n",
              "      <td>0</td>\n",
              "      <td>0</td>\n",
              "      <td>0</td>\n",
              "      <td>0</td>\n",
              "      <td>0</td>\n",
              "      <td>Neural_Networks</td>\n",
              "    </tr>\n",
              "    <tr>\n",
              "      <th>2436</th>\n",
              "      <td>0</td>\n",
              "      <td>0</td>\n",
              "      <td>0</td>\n",
              "      <td>0</td>\n",
              "      <td>0</td>\n",
              "      <td>0</td>\n",
              "      <td>0</td>\n",
              "      <td>0</td>\n",
              "      <td>0</td>\n",
              "      <td>0</td>\n",
              "      <td>...</td>\n",
              "      <td>0</td>\n",
              "      <td>0</td>\n",
              "      <td>0</td>\n",
              "      <td>0</td>\n",
              "      <td>0</td>\n",
              "      <td>0</td>\n",
              "      <td>0</td>\n",
              "      <td>0</td>\n",
              "      <td>0</td>\n",
              "      <td>Reinforcement_Learning</td>\n",
              "    </tr>\n",
              "  </tbody>\n",
              "</table>\n",
              "<p>2437 rows × 1434 columns</p>\n",
              "</div>"
            ],
            "text/plain": [
              "      w_0  w_1  w_2  w_3  w_4  w_5  w_6  w_7  w_8  w_9  ...  w_1424  w_1425  \\\n",
              "0       0    0    0    0    0    0    0    0    0    0  ...       0       0   \n",
              "1       0    0    0    0    0    0    0    0    0    0  ...       0       0   \n",
              "2       0    0    0    0    0    0    0    0    0    0  ...       0       1   \n",
              "3       0    0    0    0    0    0    0    0    0    0  ...       0       0   \n",
              "4       0    0    0    0    0    0    0    0    0    0  ...       0       0   \n",
              "...   ...  ...  ...  ...  ...  ...  ...  ...  ...  ...  ...     ...     ...   \n",
              "2432    0    0    0    0    0    0    0    0    0    0  ...       0       0   \n",
              "2433    0    0    0    0    0    0    0    0    0    0  ...       0       0   \n",
              "2434    0    0    0    0    0    0    0    0    0    0  ...       0       0   \n",
              "2435    0    0    0    1    0    0    0    0    0    0  ...       0       0   \n",
              "2436    0    0    0    0    0    0    0    0    0    0  ...       0       0   \n",
              "\n",
              "      w_1426  w_1427  w_1428  w_1429  w_1430  w_1431  w_1432  \\\n",
              "0          0       0       0       0       0       0       0   \n",
              "1          0       0       0       0       0       0       0   \n",
              "2          0       0       0       0       0       0       0   \n",
              "3          0       0       0       0       0       0       0   \n",
              "4          0       0       0       0       0       0       0   \n",
              "...      ...     ...     ...     ...     ...     ...     ...   \n",
              "2432       0       0       0       0       0       0       0   \n",
              "2433       0       0       0       0       0       0       0   \n",
              "2434       0       0       0       0       0       0       0   \n",
              "2435       0       0       0       0       0       0       0   \n",
              "2436       0       0       0       0       0       0       0   \n",
              "\n",
              "                     subject  \n",
              "0      Probabilistic_Methods  \n",
              "1            Neural_Networks  \n",
              "2         Genetic_Algorithms  \n",
              "3              Rule_Learning  \n",
              "4         Genetic_Algorithms  \n",
              "...                      ...  \n",
              "2432      Genetic_Algorithms  \n",
              "2433                  Theory  \n",
              "2434   Probabilistic_Methods  \n",
              "2435         Neural_Networks  \n",
              "2436  Reinforcement_Learning  \n",
              "\n",
              "[2437 rows x 1434 columns]"
            ]
          },
          "execution_count": 42,
          "metadata": {},
          "output_type": "execute_result"
        }
      ],
      "source": [
        "df"
      ]
    },
    {
      "cell_type": "code",
      "execution_count": 43,
      "metadata": {
        "colab": {
          "base_uri": "https://localhost:8080/"
        },
        "id": "UYomfjclHPO9",
        "outputId": "c73a9b10-cbee-4cb4-eeea-9b562920e180"
      },
      "outputs": [
        {
          "name": "stdout",
          "output_type": "stream",
          "text": [
            "(2437, 1433) (2437,)\n",
            "      w_0  w_1  w_2  w_3  w_4  w_5  w_6  w_7  w_8  w_9  ...  w_1423  w_1424  \\\n",
            "0       0    0    0    0    0    0    0    0    0    0  ...       0       0   \n",
            "1       0    0    0    0    0    0    0    0    0    0  ...       0       0   \n",
            "2       0    0    0    0    0    0    0    0    0    0  ...       0       0   \n",
            "3       0    0    0    0    0    0    0    0    0    0  ...       0       0   \n",
            "4       0    0    0    0    0    0    0    0    0    0  ...       0       0   \n",
            "...   ...  ...  ...  ...  ...  ...  ...  ...  ...  ...  ...     ...     ...   \n",
            "2432    0    0    0    0    0    0    0    0    0    0  ...       0       0   \n",
            "2433    0    0    0    0    0    0    0    0    0    0  ...       0       0   \n",
            "2434    0    0    0    0    0    0    0    0    0    0  ...       0       0   \n",
            "2435    0    0    0    1    0    0    0    0    0    0  ...       0       0   \n",
            "2436    0    0    0    0    0    0    0    0    0    0  ...       1       0   \n",
            "\n",
            "      w_1425  w_1426  w_1427  w_1428  w_1429  w_1430  w_1431  w_1432  \n",
            "0          0       0       0       0       0       0       0       0  \n",
            "1          0       0       0       0       0       0       0       0  \n",
            "2          1       0       0       0       0       0       0       0  \n",
            "3          0       0       0       0       0       0       0       0  \n",
            "4          0       0       0       0       0       0       0       0  \n",
            "...      ...     ...     ...     ...     ...     ...     ...     ...  \n",
            "2432       0       0       0       0       0       0       0       0  \n",
            "2433       0       0       0       0       0       0       0       0  \n",
            "2434       0       0       0       0       0       0       0       0  \n",
            "2435       0       0       0       0       0       0       0       0  \n",
            "2436       0       0       0       0       0       0       0       0  \n",
            "\n",
            "[2437 rows x 1433 columns]\n"
          ]
        }
      ],
      "source": [
        "print(df.iloc[:, :-1].shape, df.iloc[:, -1].shape)\n",
        "print(df.iloc[:, :-1])"
      ]
    },
    {
      "cell_type": "code",
      "execution_count": 44,
      "metadata": {},
      "outputs": [
        {
          "name": "stdout",
          "output_type": "stream",
          "text": [
            "AxesSubplot(0.125,0.11;0.775x0.77)\n"
          ]
        },
        {
          "data": {
            "image/png": "[encoded data removed]",
            "text/plain": [
              "<Figure size 640x480 with 1 Axes>"
            ]
          },
          "metadata": {},
          "output_type": "display_data"
        }
      ],
      "source": [
        "# visualize data\n",
        "print(df[\"subject\"].value_counts().plot(kind=\"bar\"))"
      ]
    },
    {
      "cell_type": "code",
      "execution_count": 45,
      "metadata": {},
      "outputs": [
        {
          "data": {
            "text/plain": [
              "array(['Probabilistic_Methods', 'Neural_Networks', 'Genetic_Algorithms',\n",
              "       'Rule_Learning', 'Reinforcement_Learning', 'Case_Based', 'Theory'],\n",
              "      dtype=object)"
            ]
          },
          "execution_count": 45,
          "metadata": {},
          "output_type": "execute_result"
        }
      ],
      "source": [
        "df[\"subject\"].unique()"
      ]
    },
    {
      "cell_type": "code",
      "execution_count": 46,
      "metadata": {},
      "outputs": [],
      "source": [
        "name_2_Id = {\n",
        "    \"Probabilistic_Methods\": 0,\n",
        "    \"Neural_Networks\": 1,\n",
        "    \"Genetic_Algorithms\": 2,\n",
        "    \"Rule_Learning\": 3,\n",
        "    \"Reinforcement_Learning\": 4,\n",
        "    \"Case_Based\": 5,\n",
        "    \"Theory\": 6,\n",
        "}\n",
        "\n",
        "id_2_Name = {\n",
        "    \"0\": \"Probabilistic_Methods\",\n",
        "    \"1\": \"Neural_Networks\",\n",
        "    \"2\": \"Genetic_Algorithms\",\n",
        "    \"3\": \"Rule_Learning\",\n",
        "    \"4\": \"Reinforcement_Learning\",\n",
        "    \"5\": \"Case_Based\",\n",
        "    \"6\": \"Theory\",\n",
        "}"
      ]
    },
    {
      "cell_type": "code",
      "execution_count": 47,
      "metadata": {},
      "outputs": [
        {
          "data": {
            "text/html": [
              "<div>\n",
              "<style scoped>\n",
              "    .dataframe tbody tr th:only-of-type {\n",
              "        vertical-align: middle;\n",
              "    }\n",
              "\n",
              "    .dataframe tbody tr th {\n",
              "        vertical-align: top;\n",
              "    }\n",
              "\n",
              "    .dataframe thead th {\n",
              "        text-align: right;\n",
              "    }\n",
              "</style>\n",
              "<table border=\"1\" class=\"dataframe\">\n",
              "  <thead>\n",
              "    <tr style=\"text-align: right;\">\n",
              "      <th></th>\n",
              "      <th>w_0</th>\n",
              "      <th>w_1</th>\n",
              "      <th>w_2</th>\n",
              "      <th>w_3</th>\n",
              "      <th>w_4</th>\n",
              "      <th>w_5</th>\n",
              "      <th>w_6</th>\n",
              "      <th>w_7</th>\n",
              "      <th>w_8</th>\n",
              "      <th>w_9</th>\n",
              "      <th>...</th>\n",
              "      <th>w_1424</th>\n",
              "      <th>w_1425</th>\n",
              "      <th>w_1426</th>\n",
              "      <th>w_1427</th>\n",
              "      <th>w_1428</th>\n",
              "      <th>w_1429</th>\n",
              "      <th>w_1430</th>\n",
              "      <th>w_1431</th>\n",
              "      <th>w_1432</th>\n",
              "      <th>subject</th>\n",
              "    </tr>\n",
              "  </thead>\n",
              "  <tbody>\n",
              "    <tr>\n",
              "      <th>0</th>\n",
              "      <td>0</td>\n",
              "      <td>0</td>\n",
              "      <td>0</td>\n",
              "      <td>0</td>\n",
              "      <td>0</td>\n",
              "      <td>0</td>\n",
              "      <td>0</td>\n",
              "      <td>0</td>\n",
              "      <td>0</td>\n",
              "      <td>0</td>\n",
              "      <td>...</td>\n",
              "      <td>0</td>\n",
              "      <td>0</td>\n",
              "      <td>0</td>\n",
              "      <td>0</td>\n",
              "      <td>0</td>\n",
              "      <td>0</td>\n",
              "      <td>0</td>\n",
              "      <td>0</td>\n",
              "      <td>0</td>\n",
              "      <td>0</td>\n",
              "    </tr>\n",
              "    <tr>\n",
              "      <th>1</th>\n",
              "      <td>0</td>\n",
              "      <td>0</td>\n",
              "      <td>0</td>\n",
              "      <td>0</td>\n",
              "      <td>0</td>\n",
              "      <td>0</td>\n",
              "      <td>0</td>\n",
              "      <td>0</td>\n",
              "      <td>0</td>\n",
              "      <td>0</td>\n",
              "      <td>...</td>\n",
              "      <td>0</td>\n",
              "      <td>0</td>\n",
              "      <td>0</td>\n",
              "      <td>0</td>\n",
              "      <td>0</td>\n",
              "      <td>0</td>\n",
              "      <td>0</td>\n",
              "      <td>0</td>\n",
              "      <td>0</td>\n",
              "      <td>1</td>\n",
              "    </tr>\n",
              "    <tr>\n",
              "      <th>2</th>\n",
              "      <td>0</td>\n",
              "      <td>0</td>\n",
              "      <td>0</td>\n",
              "      <td>0</td>\n",
              "      <td>0</td>\n",
              "      <td>0</td>\n",
              "      <td>0</td>\n",
              "      <td>0</td>\n",
              "      <td>0</td>\n",
              "      <td>0</td>\n",
              "      <td>...</td>\n",
              "      <td>0</td>\n",
              "      <td>1</td>\n",
              "      <td>0</td>\n",
              "      <td>0</td>\n",
              "      <td>0</td>\n",
              "      <td>0</td>\n",
              "      <td>0</td>\n",
              "      <td>0</td>\n",
              "      <td>0</td>\n",
              "      <td>2</td>\n",
              "    </tr>\n",
              "    <tr>\n",
              "      <th>3</th>\n",
              "      <td>0</td>\n",
              "      <td>0</td>\n",
              "      <td>0</td>\n",
              "      <td>0</td>\n",
              "      <td>0</td>\n",
              "      <td>0</td>\n",
              "      <td>0</td>\n",
              "      <td>0</td>\n",
              "      <td>0</td>\n",
              "      <td>0</td>\n",
              "      <td>...</td>\n",
              "      <td>0</td>\n",
              "      <td>0</td>\n",
              "      <td>0</td>\n",
              "      <td>0</td>\n",
              "      <td>0</td>\n",
              "      <td>0</td>\n",
              "      <td>0</td>\n",
              "      <td>0</td>\n",
              "      <td>0</td>\n",
              "      <td>3</td>\n",
              "    </tr>\n",
              "    <tr>\n",
              "      <th>4</th>\n",
              "      <td>0</td>\n",
              "      <td>0</td>\n",
              "      <td>0</td>\n",
              "      <td>0</td>\n",
              "      <td>0</td>\n",
              "      <td>0</td>\n",
              "      <td>0</td>\n",
              "      <td>0</td>\n",
              "      <td>0</td>\n",
              "      <td>0</td>\n",
              "      <td>...</td>\n",
              "      <td>0</td>\n",
              "      <td>0</td>\n",
              "      <td>0</td>\n",
              "      <td>0</td>\n",
              "      <td>0</td>\n",
              "      <td>0</td>\n",
              "      <td>0</td>\n",
              "      <td>0</td>\n",
              "      <td>0</td>\n",
              "      <td>2</td>\n",
              "    </tr>\n",
              "    <tr>\n",
              "      <th>...</th>\n",
              "      <td>...</td>\n",
              "      <td>...</td>\n",
              "      <td>...</td>\n",
              "      <td>...</td>\n",
              "      <td>...</td>\n",
              "      <td>...</td>\n",
              "      <td>...</td>\n",
              "      <td>...</td>\n",
              "      <td>...</td>\n",
              "      <td>...</td>\n",
              "      <td>...</td>\n",
              "      <td>...</td>\n",
              "      <td>...</td>\n",
              "      <td>...</td>\n",
              "      <td>...</td>\n",
              "      <td>...</td>\n",
              "      <td>...</td>\n",
              "      <td>...</td>\n",
              "      <td>...</td>\n",
              "      <td>...</td>\n",
              "      <td>...</td>\n",
              "    </tr>\n",
              "    <tr>\n",
              "      <th>2432</th>\n",
              "      <td>0</td>\n",
              "      <td>0</td>\n",
              "      <td>0</td>\n",
              "      <td>0</td>\n",
              "      <td>0</td>\n",
              "      <td>0</td>\n",
              "      <td>0</td>\n",
              "      <td>0</td>\n",
              "      <td>0</td>\n",
              "      <td>0</td>\n",
              "      <td>...</td>\n",
              "      <td>0</td>\n",
              "      <td>0</td>\n",
              "      <td>0</td>\n",
              "      <td>0</td>\n",
              "      <td>0</td>\n",
              "      <td>0</td>\n",
              "      <td>0</td>\n",
              "      <td>0</td>\n",
              "      <td>0</td>\n",
              "      <td>2</td>\n",
              "    </tr>\n",
              "    <tr>\n",
              "      <th>2433</th>\n",
              "      <td>0</td>\n",
              "      <td>0</td>\n",
              "      <td>0</td>\n",
              "      <td>0</td>\n",
              "      <td>0</td>\n",
              "      <td>0</td>\n",
              "      <td>0</td>\n",
              "      <td>0</td>\n",
              "      <td>0</td>\n",
              "      <td>0</td>\n",
              "      <td>...</td>\n",
              "      <td>0</td>\n",
              "      <td>0</td>\n",
              "      <td>0</td>\n",
              "      <td>0</td>\n",
              "      <td>0</td>\n",
              "      <td>0</td>\n",
              "      <td>0</td>\n",
              "      <td>0</td>\n",
              "      <td>0</td>\n",
              "      <td>6</td>\n",
              "    </tr>\n",
              "    <tr>\n",
              "      <th>2434</th>\n",
              "      <td>0</td>\n",
              "      <td>0</td>\n",
              "      <td>0</td>\n",
              "      <td>0</td>\n",
              "      <td>0</td>\n",
              "      <td>0</td>\n",
              "      <td>0</td>\n",
              "      <td>0</td>\n",
              "      <td>0</td>\n",
              "      <td>0</td>\n",
              "      <td>...</td>\n",
              "      <td>0</td>\n",
              "      <td>0</td>\n",
              "      <td>0</td>\n",
              "      <td>0</td>\n",
              "      <td>0</td>\n",
              "      <td>0</td>\n",
              "      <td>0</td>\n",
              "      <td>0</td>\n",
              "      <td>0</td>\n",
              "      <td>0</td>\n",
              "    </tr>\n",
              "    <tr>\n",
              "      <th>2435</th>\n",
              "      <td>0</td>\n",
              "      <td>0</td>\n",
              "      <td>0</td>\n",
              "      <td>1</td>\n",
              "      <td>0</td>\n",
              "      <td>0</td>\n",
              "      <td>0</td>\n",
              "      <td>0</td>\n",
              "      <td>0</td>\n",
              "      <td>0</td>\n",
              "      <td>...</td>\n",
              "      <td>0</td>\n",
              "      <td>0</td>\n",
              "      <td>0</td>\n",
              "      <td>0</td>\n",
              "      <td>0</td>\n",
              "      <td>0</td>\n",
              "      <td>0</td>\n",
              "      <td>0</td>\n",
              "      <td>0</td>\n",
              "      <td>1</td>\n",
              "    </tr>\n",
              "    <tr>\n",
              "      <th>2436</th>\n",
              "      <td>0</td>\n",
              "      <td>0</td>\n",
              "      <td>0</td>\n",
              "      <td>0</td>\n",
              "      <td>0</td>\n",
              "      <td>0</td>\n",
              "      <td>0</td>\n",
              "      <td>0</td>\n",
              "      <td>0</td>\n",
              "      <td>0</td>\n",
              "      <td>...</td>\n",
              "      <td>0</td>\n",
              "      <td>0</td>\n",
              "      <td>0</td>\n",
              "      <td>0</td>\n",
              "      <td>0</td>\n",
              "      <td>0</td>\n",
              "      <td>0</td>\n",
              "      <td>0</td>\n",
              "      <td>0</td>\n",
              "      <td>4</td>\n",
              "    </tr>\n",
              "  </tbody>\n",
              "</table>\n",
              "<p>2437 rows × 1434 columns</p>\n",
              "</div>"
            ],
            "text/plain": [
              "      w_0  w_1  w_2  w_3  w_4  w_5  w_6  w_7  w_8  w_9  ...  w_1424  w_1425  \\\n",
              "0       0    0    0    0    0    0    0    0    0    0  ...       0       0   \n",
              "1       0    0    0    0    0    0    0    0    0    0  ...       0       0   \n",
              "2       0    0    0    0    0    0    0    0    0    0  ...       0       1   \n",
              "3       0    0    0    0    0    0    0    0    0    0  ...       0       0   \n",
              "4       0    0    0    0    0    0    0    0    0    0  ...       0       0   \n",
              "...   ...  ...  ...  ...  ...  ...  ...  ...  ...  ...  ...     ...     ...   \n",
              "2432    0    0    0    0    0    0    0    0    0    0  ...       0       0   \n",
              "2433    0    0    0    0    0    0    0    0    0    0  ...       0       0   \n",
              "2434    0    0    0    0    0    0    0    0    0    0  ...       0       0   \n",
              "2435    0    0    0    1    0    0    0    0    0    0  ...       0       0   \n",
              "2436    0    0    0    0    0    0    0    0    0    0  ...       0       0   \n",
              "\n",
              "      w_1426  w_1427  w_1428  w_1429  w_1430  w_1431  w_1432  subject  \n",
              "0          0       0       0       0       0       0       0        0  \n",
              "1          0       0       0       0       0       0       0        1  \n",
              "2          0       0       0       0       0       0       0        2  \n",
              "3          0       0       0       0       0       0       0        3  \n",
              "4          0       0       0       0       0       0       0        2  \n",
              "...      ...     ...     ...     ...     ...     ...     ...      ...  \n",
              "2432       0       0       0       0       0       0       0        2  \n",
              "2433       0       0       0       0       0       0       0        6  \n",
              "2434       0       0       0       0       0       0       0        0  \n",
              "2435       0       0       0       0       0       0       0        1  \n",
              "2436       0       0       0       0       0       0       0        4  \n",
              "\n",
              "[2437 rows x 1434 columns]"
            ]
          },
          "execution_count": 47,
          "metadata": {},
          "output_type": "execute_result"
        }
      ],
      "source": [
        "# preprocessing subject\n",
        "df[\"subject\"] = df[\"subject\"].map(name_2_Id)\n",
        "df"
      ]
    },
    {
      "cell_type": "code",
      "execution_count": 69,
      "metadata": {},
      "outputs": [
        {
          "name": "stdout",
          "output_type": "stream",
          "text": [
            "[[0 0 0 ... 0 0 0]\n",
            " [0 0 0 ... 0 0 0]\n",
            " [0 0 0 ... 0 0 0]\n",
            " ...\n",
            " [0 0 0 ... 0 0 0]\n",
            " [0 0 0 ... 0 0 0]\n",
            " [0 0 0 ... 0 0 0]]\n",
            "0.9873470207068796\n"
          ]
        }
      ],
      "source": [
        "# check percent sparse of matrix\n",
        "from numpy import count_nonzero\n",
        "import numpy as np\n",
        "\n",
        "A = df.iloc[:, :-1].values\n",
        "print(A)\n",
        "# calculate sparsity\n",
        "sparsity = 1.0 - ( count_nonzero(A) / float(A.size))\n",
        "print(sparsity)"
      ]
    },
    {
      "cell_type": "code",
      "execution_count": 49,
      "metadata": {},
      "outputs": [],
      "source": [
        "# train test split\n",
        "from sklearn.model_selection import train_test_split\n",
        "\n",
        "X_train, X_test, y_train, y_test = train_test_split(\n",
        "    df.iloc[:, :-1], df.iloc[:, -1], test_size=0.2, random_state=42\n",
        ")"
      ]
    },
    {
      "cell_type": "markdown",
      "metadata": {},
      "source": [
        "# KNN"
      ]
    },
    {
      "cell_type": "code",
      "execution_count": 50,
      "metadata": {},
      "outputs": [
        {
          "data": {
            "image/png": "[encoded data removed]",
            "text/plain": [
              "<IPython.core.display.Image object>"
            ]
          },
          "execution_count": 50,
          "metadata": {},
          "output_type": "execute_result"
        }
      ],
      "source": [
        "from IPython import display\n",
        "display.Image(\"./utils/knn.png\")"
      ]
    },
    {
      "cell_type": "code",
      "execution_count": 51,
      "metadata": {},
      "outputs": [],
      "source": [
        "from sklearn import neighbors\n",
        "from sklearn.metrics import confusion_matrix\n",
        "from sklearn.metrics import accuracy_score\n",
        "from sklearn.metrics import f1_score\n",
        "# https://www.miai.vn/2020/06/16/oanh-gia-model-ai-theo-cach-mi-an-lien-chuong-2-precision-recall-va-f-score/"
      ]
    },
    {
      "cell_type": "markdown",
      "metadata": {},
      "source": [
        "### Một vài tham số (Parameter)\n",
        "n_neighbors: int, default=5\n",
        " \n",
        "- Number of neighbors to use by default for kneighbors queries.\n",
        "\n",
        "![5](./utils/knn5.png)\n",
        "\n",
        "weights: {‘uniform’, ‘distance’} or callable, default=’uniform’\n",
        "- Weight function used in prediction. Possible values:\n",
        "\n",
        "+ ‘uniform’ : uniform weights. All points in each neighborhood are weighted equally.\n",
        "\n",
        "+ ‘distance’ : weight points by the inverse of their distance. in this case, closer neighbors of a query point will have a greater influence than neighbors which are further away.\n",
        "\n",
        "+ [callable] : a user-defined function which accepts an array of distances, and returns an array of the same shape containing the weights.\n",
        "\n",
        "metric: str or callable, default=’minkowski’\n",
        "\n",
        "![2](./utils/knn2.png)\n",
        "![3](./utils/knn3.png)\n",
        "![4](./utils/knn4.png)\n",
        "\n"
      ]
    },
    {
      "cell_type": "code",
      "execution_count": 52,
      "metadata": {},
      "outputs": [
        {
          "name": "stdout",
          "output_type": "stream",
          "text": [
            "euclidean_distance v1, v2:  2769.3719504609703\n",
            "euclidean_distance v1, v3:  3737.113993444674\n",
            "euclidean_distance v2, v3:  1868.1541692269404\n",
            "\n",
            "cosine_distance v1, v2:  0.8105212535512913\n",
            "cosine_distance v1, v3:  0.9914601339836674\n",
            "cosine_distance v2, v3:  0.8770295059040306\n"
          ]
        }
      ],
      "source": [
        "# define 3 vector\n",
        "v1 = np.array([1, 2, 4])\n",
        "v2 = np.array([1500, 2000, 1200])\n",
        "v3 = np.array([1000, 2000, 3000])\n",
        "\n",
        "\n",
        "# calculate euclidean distance, cosine distance\n",
        "def euclidean_distance(v1, v2):\n",
        "    return np.sqrt(np.sum((v1 - v2) ** 2))\n",
        "\n",
        "\n",
        "def cosine_distance(v1, v2):\n",
        "    return np.dot(v1, v2) / (np.linalg.norm(v1) * np.linalg.norm(v2))\n",
        "\n",
        "print(\"euclidean_distance v1, v2: \", euclidean_distance(v1, v2))\n",
        "print(\"euclidean_distance v1, v3: \", euclidean_distance(v1, v3))\n",
        "print(\"euclidean_distance v2, v3: \", euclidean_distance(v2, v3))\n",
        "\n",
        "print()\n",
        "\n",
        "print(\"cosine_distance v1, v2: \", cosine_distance(v1, v2))\n",
        "print(\"cosine_distance v1, v3: \", cosine_distance(v1, v3))\n",
        "print(\"cosine_distance v2, v3: \", cosine_distance(v2, v3))"
      ]
    },
    {
      "cell_type": "code",
      "execution_count": 53,
      "metadata": {},
      "outputs": [
        {
          "name": "stdout",
          "output_type": "stream",
          "text": [
            "KNN accuracy:  0.48565573770491804\n",
            "KNN f1 score:  0.4748094042147329\n",
            "KNN confusion matrix: \n",
            "[[44 11  6  3  0  0  3]\n",
            " [34 82 24  3  4  1 10]\n",
            " [ 3  9 59  0  0  0  6]\n",
            " [ 4  5  5 10  1  3  6]\n",
            " [ 4  7  6  3 12  1  0]\n",
            " [21 13  3  1  2 16  1]\n",
            " [15  8  6  9  6  4 14]]\n"
          ]
        }
      ],
      "source": [
        "clf = neighbors.KNeighborsClassifier(n_neighbors = 3, weights = 'distance', metric='euclidean')\n",
        "clf.fit(X_train, y_train)\n",
        "y_pred = clf.predict(X_test)\n",
        "\n",
        "print(\"KNN accuracy: \", accuracy_score(y_test, y_pred))\n",
        "print(\"KNN f1 score: \", f1_score(y_test, y_pred, average='weighted'))\n",
        "print(\"KNN confusion matrix: \")\n",
        "print(confusion_matrix(y_test, y_pred))"
      ]
    },
    {
      "cell_type": "code",
      "execution_count": 54,
      "metadata": {},
      "outputs": [
        {
          "name": "stdout",
          "output_type": "stream",
          "text": [
            "KNN accuracy:  0.7377049180327869\n",
            "KNN f1 score:  0.7371369662927927\n",
            "KNN confusion matrix: \n",
            "[[ 49   3   1   2   1   4   7]\n",
            " [ 10 128   4   0   4   3   9]\n",
            " [  3   4  66   1   2   0   1]\n",
            " [  1   2   1  22   2   3   3]\n",
            " [  1   4   0   2  21   4   1]\n",
            " [  4   3   2   4   0  41   3]\n",
            " [  2  10   5   4   2   6  33]]\n"
          ]
        }
      ],
      "source": [
        "clf = neighbors.KNeighborsClassifier(n_neighbors = 3, weights = 'distance', metric='cosine')\n",
        "clf.fit(X_train, y_train)\n",
        "y_pred = clf.predict(X_test)\n",
        "\n",
        "print(\"KNN accuracy: \", accuracy_score(y_test, y_pred))\n",
        "print(\"KNN f1 score: \", f1_score(y_test, y_pred, average='weighted'))\n",
        "print(\"KNN confusion matrix: \")\n",
        "print(confusion_matrix(y_test, y_pred))"
      ]
    },
    {
      "cell_type": "markdown",
      "metadata": {
        "id": "dZcBKAQCWBNK"
      },
      "source": [
        "# Logistic Regression"
      ]
    },
    {
      "cell_type": "code",
      "execution_count": 55,
      "metadata": {},
      "outputs": [
        {
          "data": {
            "image/png": "[encoded data removed]",
            "text/plain": [
              "<IPython.core.display.Image object>"
            ]
          },
          "execution_count": 55,
          "metadata": {},
          "output_type": "execute_result"
        }
      ],
      "source": [
        "from IPython import display\n",
        "display.Image(\"./utils/log_res.png\")"
      ]
    },
    {
      "cell_type": "code",
      "execution_count": 56,
      "metadata": {},
      "outputs": [],
      "source": [
        "from sklearn.linear_model import LogisticRegression\n",
        "from sklearn.metrics import confusion_matrix\n",
        "from sklearn.metrics import accuracy_score\n",
        "from sklearn.metrics import f1_score\n",
        "# https://www.miai.vn/2020/06/16/oanh-gia-model-ai-theo-cach-mi-an-lien-chuong-2-precision-recall-va-f-score/"
      ]
    },
    {
      "cell_type": "code",
      "execution_count": 57,
      "metadata": {},
      "outputs": [
        {
          "name": "stdout",
          "output_type": "stream",
          "text": [
            "LR classification accuracy 0.7930327868852459\n",
            "[[ 55   6   1   2   1   2   0]\n",
            " [ 13 136   1   0   1   2   5]\n",
            " [  1   7  65   1   1   1   1]\n",
            " [  2   2   2  18   0   2   8]\n",
            " [  2   5   2   0  21   1   2]\n",
            " [  2   1   2   3   2  45   2]\n",
            " [  1   5   2   4   0   3  47]]\n",
            "LR f1 score 0.7576601646430857\n"
          ]
        }
      ],
      "source": [
        "regressor = LogisticRegression()\n",
        "regressor.fit(X_train, y_train)\n",
        "\n",
        "# predict\n",
        "predictions = regressor.predict(X_test)\n",
        "# evaluate\n",
        "print(\"LR classification accuracy\", accuracy_score(y_test, predictions))\n",
        "\n",
        "# matrix confusion\n",
        "cm = confusion_matrix(y_test, predictions)\n",
        "print(cm)\n",
        "\n",
        "# f1 score\n",
        "print(\"LR f1 score\", f1_score(y_test, predictions, average=\"macro\"))"
      ]
    },
    {
      "cell_type": "code",
      "execution_count": 58,
      "metadata": {},
      "outputs": [
        {
          "name": "stdout",
          "output_type": "stream",
          "text": [
            "regressor.coef_ [[ 0.03221266 -0.12289695  0.08815992 ... -0.10230206  0.20477801\n",
            "   0.20135708]\n",
            " [ 0.54495421  0.18432733 -0.3054115  ... -0.02607878 -0.42399465\n",
            "   0.14382144]\n",
            " [ 0.121423   -0.29241293 -0.22966988 ... -0.02155709 -0.27486844\n",
            "  -0.0227118 ]\n",
            " ...\n",
            " [-0.14518046  0.05115239  0.31750283 ... -0.0060337  -0.03027071\n",
            "  -0.06653983]\n",
            " [-0.19399563  0.37009965  0.01414277 ... -0.03192962  0.33307885\n",
            "  -0.14051157]\n",
            " [-0.23114294 -0.37516938  0.22897758 ...  0.20017505 -0.14531693\n",
            "  -0.07811123]]\n",
            "regressor.coef_.shape (7, 1433)\n",
            "regressor.intercept_ [ 0.68943604  1.30640456  0.54224626 -0.81727678 -1.56778459 -0.05836346\n",
            " -0.09466203]\n",
            "regressor.intercept_.shape (7,)\n"
          ]
        }
      ],
      "source": [
        "# print the coefficients\n",
        "print(\"regressor.coef_\", regressor.coef_)\n",
        "print(\"regressor.coef_.shape\", regressor.coef_.shape)\n",
        "\n",
        "\n",
        "print(\"regressor.intercept_\", regressor.intercept_)\n",
        "print(\"regressor.intercept_.shape\", regressor.intercept_.shape)"
      ]
    },
    {
      "cell_type": "markdown",
      "metadata": {},
      "source": [
        "# SVM"
      ]
    },
    {
      "cell_type": "markdown",
      "metadata": {},
      "source": [
        "![1](./utils/svm1.png)"
      ]
    },
    {
      "cell_type": "markdown",
      "metadata": {},
      "source": [
        "![2](./utils/svm2.png)\n"
      ]
    },
    {
      "cell_type": "markdown",
      "metadata": {},
      "source": [
        "![3](./utils/svm3.png)\n"
      ]
    },
    {
      "cell_type": "markdown",
      "metadata": {},
      "source": [
        "![4](./utils/svm4.png)"
      ]
    },
    {
      "cell_type": "markdown",
      "metadata": {},
      "source": [
        "![5](./utils/svm5.jfif)"
      ]
    },
    {
      "cell_type": "markdown",
      "metadata": {},
      "source": [
        "![6](./utils/svm6.png)"
      ]
    },
    {
      "cell_type": "markdown",
      "metadata": {},
      "source": [
        "Trong trường hợp đường biên phân chia đúng mọi điểm điểm dữ liệu thì được gọi là bài toán phân loại theo đường biên cứng (hard margin classification)"
      ]
    },
    {
      "cell_type": "markdown",
      "metadata": {},
      "source": [
        "![7](./utils/svm7.png)\n",
        "![8](./utils/svm8.png)\n",
        "- trong đó C (>0) là tham số xác định mức độ phạt (penalty degree) đối với các lỗi → Giá trị C càng lớn, thì mức độ phạt càng cao đối với các lỗi"
      ]
    },
    {
      "cell_type": "code",
      "execution_count": 59,
      "metadata": {
        "id": "URwG4EnXYoSR"
      },
      "outputs": [
        {
          "name": "stdout",
          "output_type": "stream",
          "text": [
            "SVM accuracy:  0.7663934426229508\n",
            "SVM f1 score:  0.7653468326532188\n",
            "SVM confusion matrix: \n",
            "[[ 55   5   1   2   1   2   1]\n",
            " [ 16 131   1   2   2   2   4]\n",
            " [  2  11  60   1   1   1   1]\n",
            " [  2   1   0  21   0   4   6]\n",
            " [  2   5   4   0  19   1   2]\n",
            " [  2   4   3   2   1  42   3]\n",
            " [  0   7   2   4   0   3  46]]\n"
          ]
        }
      ],
      "source": [
        "# svm to classify\n",
        "from sklearn.svm import SVC\n",
        "from sklearn.metrics import confusion_matrix\n",
        "from sklearn.metrics import accuracy_score\n",
        "from sklearn.metrics import f1_score\n",
        "\n",
        "\n",
        "clf = SVC(kernel='linear')\n",
        "clf.fit(X_train, y_train)\n",
        "y_pred = clf.predict(X_test)\n",
        "\n",
        "print(\"SVM accuracy: \", accuracy_score(y_test, y_pred))\n",
        "print(\"SVM f1 score: \", f1_score(y_test, y_pred, average='weighted'))\n",
        "print(\"SVM confusion matrix: \")\n",
        "print(confusion_matrix(y_test, y_pred))"
      ]
    },
    {
      "cell_type": "code",
      "execution_count": 60,
      "metadata": {
        "id": "iI-7ccenYoP0"
      },
      "outputs": [
        {
          "name": "stdout",
          "output_type": "stream",
          "text": [
            "Fitting 5 folds for each of 27 candidates, totalling 135 fits\n",
            "[CV 1/5] END ........C=0.1, gamma=1, kernel=rbf;, score=0.297 total time=   5.5s\n",
            "[CV 2/5] END ........C=0.1, gamma=1, kernel=rbf;, score=0.297 total time=   5.2s\n",
            "[CV 3/5] END ........C=0.1, gamma=1, kernel=rbf;, score=0.300 total time=   4.9s\n",
            "[CV 4/5] END ........C=0.1, gamma=1, kernel=rbf;, score=0.300 total time=   4.7s\n",
            "[CV 5/5] END ........C=0.1, gamma=1, kernel=rbf;, score=0.301 total time=   5.3s\n",
            "[CV 1/5] END .....C=0.1, gamma=1, kernel=linear;, score=0.682 total time=   2.5s\n",
            "[CV 2/5] END .....C=0.1, gamma=1, kernel=linear;, score=0.746 total time=   2.6s\n",
            "[CV 3/5] END .....C=0.1, gamma=1, kernel=linear;, score=0.779 total time=   2.6s\n",
            "[CV 4/5] END .....C=0.1, gamma=1, kernel=linear;, score=0.705 total time=   2.5s\n",
            "[CV 5/5] END .....C=0.1, gamma=1, kernel=linear;, score=0.725 total time=   2.2s\n",
            "[CV 1/5] END .......C=0.1, gamma=1, kernel=poly;, score=0.551 total time=   3.3s\n",
            "[CV 2/5] END .......C=0.1, gamma=1, kernel=poly;, score=0.546 total time=   3.4s\n",
            "[CV 3/5] END .......C=0.1, gamma=1, kernel=poly;, score=0.579 total time=   3.7s\n",
            "[CV 4/5] END .......C=0.1, gamma=1, kernel=poly;, score=0.523 total time=   3.5s\n",
            "[CV 5/5] END .......C=0.1, gamma=1, kernel=poly;, score=0.553 total time=   3.5s\n",
            "[CV 1/5] END ......C=0.1, gamma=0.1, kernel=rbf;, score=0.297 total time=   5.0s\n",
            "[CV 2/5] END ......C=0.1, gamma=0.1, kernel=rbf;, score=0.297 total time=   4.8s\n",
            "[CV 3/5] END ......C=0.1, gamma=0.1, kernel=rbf;, score=0.300 total time=   4.6s\n",
            "[CV 4/5] END ......C=0.1, gamma=0.1, kernel=rbf;, score=0.300 total time=   5.1s\n",
            "[CV 5/5] END ......C=0.1, gamma=0.1, kernel=rbf;, score=0.301 total time=   4.9s\n",
            "[CV 1/5] END ...C=0.1, gamma=0.1, kernel=linear;, score=0.682 total time=   2.5s\n",
            "[CV 2/5] END ...C=0.1, gamma=0.1, kernel=linear;, score=0.746 total time=   2.3s\n",
            "[CV 3/5] END ...C=0.1, gamma=0.1, kernel=linear;, score=0.779 total time=   2.4s\n",
            "[CV 4/5] END ...C=0.1, gamma=0.1, kernel=linear;, score=0.705 total time=   2.3s\n",
            "[CV 5/5] END ...C=0.1, gamma=0.1, kernel=linear;, score=0.725 total time=   2.3s\n",
            "[CV 1/5] END .....C=0.1, gamma=0.1, kernel=poly;, score=0.321 total time=   3.8s\n",
            "[CV 2/5] END .....C=0.1, gamma=0.1, kernel=poly;, score=0.333 total time=   3.6s\n",
            "[CV 3/5] END .....C=0.1, gamma=0.1, kernel=poly;, score=0.315 total time=   3.4s\n",
            "[CV 4/5] END .....C=0.1, gamma=0.1, kernel=poly;, score=0.323 total time=   3.2s\n",
            "[CV 5/5] END .....C=0.1, gamma=0.1, kernel=poly;, score=0.339 total time=   3.2s\n",
            "[CV 1/5] END .....C=0.1, gamma=0.01, kernel=rbf;, score=0.297 total time=   2.9s\n",
            "[CV 2/5] END .....C=0.1, gamma=0.01, kernel=rbf;, score=0.297 total time=   2.9s\n",
            "[CV 3/5] END .....C=0.1, gamma=0.01, kernel=rbf;, score=0.300 total time=   2.9s\n",
            "[CV 4/5] END .....C=0.1, gamma=0.01, kernel=rbf;, score=0.300 total time=   2.9s\n",
            "[CV 5/5] END .....C=0.1, gamma=0.01, kernel=rbf;, score=0.301 total time=   2.9s\n",
            "[CV 1/5] END ..C=0.1, gamma=0.01, kernel=linear;, score=0.682 total time=   1.8s\n",
            "[CV 2/5] END ..C=0.1, gamma=0.01, kernel=linear;, score=0.746 total time=   1.8s\n",
            "[CV 3/5] END ..C=0.1, gamma=0.01, kernel=linear;, score=0.779 total time=   1.8s\n",
            "[CV 4/5] END ..C=0.1, gamma=0.01, kernel=linear;, score=0.705 total time=   1.8s\n",
            "[CV 5/5] END ..C=0.1, gamma=0.01, kernel=linear;, score=0.725 total time=   1.8s\n",
            "[CV 1/5] END ....C=0.1, gamma=0.01, kernel=poly;, score=0.297 total time=   2.4s\n",
            "[CV 2/5] END ....C=0.1, gamma=0.01, kernel=poly;, score=0.297 total time=   2.5s\n",
            "[CV 3/5] END ....C=0.1, gamma=0.01, kernel=poly;, score=0.300 total time=   2.5s\n",
            "[CV 4/5] END ....C=0.1, gamma=0.01, kernel=poly;, score=0.300 total time=   2.4s\n",
            "[CV 5/5] END ....C=0.1, gamma=0.01, kernel=poly;, score=0.301 total time=   2.4s\n",
            "[CV 1/5] END ..........C=1, gamma=1, kernel=rbf;, score=0.303 total time=   3.5s\n",
            "[CV 2/5] END ..........C=1, gamma=1, kernel=rbf;, score=0.303 total time=   3.6s\n",
            "[CV 3/5] END ..........C=1, gamma=1, kernel=rbf;, score=0.308 total time=   3.7s\n",
            "[CV 4/5] END ..........C=1, gamma=1, kernel=rbf;, score=0.303 total time=   3.7s\n",
            "[CV 5/5] END ..........C=1, gamma=1, kernel=rbf;, score=0.316 total time=   3.6s\n",
            "[CV 1/5] END .......C=1, gamma=1, kernel=linear;, score=0.664 total time=   1.7s\n",
            "[CV 2/5] END .......C=1, gamma=1, kernel=linear;, score=0.710 total time=   1.7s\n",
            "[CV 3/5] END .......C=1, gamma=1, kernel=linear;, score=0.759 total time=   1.8s\n",
            "[CV 4/5] END .......C=1, gamma=1, kernel=linear;, score=0.690 total time=   1.8s\n",
            "[CV 5/5] END .......C=1, gamma=1, kernel=linear;, score=0.689 total time=   1.8s\n",
            "[CV 1/5] END .........C=1, gamma=1, kernel=poly;, score=0.492 total time=   3.3s\n",
            "[CV 2/5] END .........C=1, gamma=1, kernel=poly;, score=0.546 total time=   3.3s\n",
            "[CV 3/5] END .........C=1, gamma=1, kernel=poly;, score=0.559 total time=   3.4s\n",
            "[CV 4/5] END .........C=1, gamma=1, kernel=poly;, score=0.531 total time=   3.6s\n",
            "[CV 5/5] END .........C=1, gamma=1, kernel=poly;, score=0.509 total time=   3.3s\n",
            "[CV 1/5] END ........C=1, gamma=0.1, kernel=rbf;, score=0.595 total time=   3.6s\n",
            "[CV 2/5] END ........C=1, gamma=0.1, kernel=rbf;, score=0.631 total time=   3.5s\n",
            "[CV 3/5] END ........C=1, gamma=0.1, kernel=rbf;, score=0.623 total time=   3.5s\n",
            "[CV 4/5] END ........C=1, gamma=0.1, kernel=rbf;, score=0.613 total time=   3.6s\n",
            "[CV 5/5] END ........C=1, gamma=0.1, kernel=rbf;, score=0.630 total time=   3.5s\n",
            "[CV 1/5] END .....C=1, gamma=0.1, kernel=linear;, score=0.664 total time=   1.7s\n",
            "[CV 2/5] END .....C=1, gamma=0.1, kernel=linear;, score=0.710 total time=   1.7s\n",
            "[CV 3/5] END .....C=1, gamma=0.1, kernel=linear;, score=0.759 total time=   1.8s\n",
            "[CV 4/5] END .....C=1, gamma=0.1, kernel=linear;, score=0.690 total time=   1.7s\n",
            "[CV 5/5] END .....C=1, gamma=0.1, kernel=linear;, score=0.689 total time=   1.7s\n",
            "[CV 1/5] END .......C=1, gamma=0.1, kernel=poly;, score=0.377 total time=   3.3s\n",
            "[CV 2/5] END .......C=1, gamma=0.1, kernel=poly;, score=0.413 total time=   3.5s\n",
            "[CV 3/5] END .......C=1, gamma=0.1, kernel=poly;, score=0.400 total time=   3.6s\n",
            "[CV 4/5] END .......C=1, gamma=0.1, kernel=poly;, score=0.364 total time=   3.6s\n",
            "[CV 5/5] END .......C=1, gamma=0.1, kernel=poly;, score=0.398 total time=   3.7s\n",
            "[CV 1/5] END .......C=1, gamma=0.01, kernel=rbf;, score=0.615 total time=   3.0s\n",
            "[CV 2/5] END .......C=1, gamma=0.01, kernel=rbf;, score=0.692 total time=   3.9s\n",
            "[CV 3/5] END .......C=1, gamma=0.01, kernel=rbf;, score=0.682 total time=   3.9s\n",
            "[CV 4/5] END .......C=1, gamma=0.01, kernel=rbf;, score=0.626 total time=   3.7s\n",
            "[CV 5/5] END .......C=1, gamma=0.01, kernel=rbf;, score=0.663 total time=   3.4s\n",
            "[CV 1/5] END ....C=1, gamma=0.01, kernel=linear;, score=0.664 total time=   2.1s\n",
            "[CV 2/5] END ....C=1, gamma=0.01, kernel=linear;, score=0.710 total time=   2.2s\n",
            "[CV 3/5] END ....C=1, gamma=0.01, kernel=linear;, score=0.759 total time=   1.9s\n",
            "[CV 4/5] END ....C=1, gamma=0.01, kernel=linear;, score=0.690 total time=   1.7s\n",
            "[CV 5/5] END ....C=1, gamma=0.01, kernel=linear;, score=0.689 total time=   1.8s\n",
            "[CV 1/5] END ......C=1, gamma=0.01, kernel=poly;, score=0.297 total time=   4.5s\n",
            "[CV 2/5] END ......C=1, gamma=0.01, kernel=poly;, score=0.297 total time=   4.5s\n",
            "[CV 3/5] END ......C=1, gamma=0.01, kernel=poly;, score=0.300 total time=   4.1s\n",
            "[CV 4/5] END ......C=1, gamma=0.01, kernel=poly;, score=0.300 total time=   4.1s\n",
            "[CV 5/5] END ......C=1, gamma=0.01, kernel=poly;, score=0.301 total time=   3.3s\n",
            "[CV 1/5] END .........C=10, gamma=1, kernel=rbf;, score=0.308 total time=   3.6s\n",
            "[CV 2/5] END .........C=10, gamma=1, kernel=rbf;, score=0.305 total time=   3.6s\n",
            "[CV 3/5] END .........C=10, gamma=1, kernel=rbf;, score=0.310 total time=   3.6s\n",
            "[CV 4/5] END .........C=10, gamma=1, kernel=rbf;, score=0.305 total time=   3.6s\n",
            "[CV 5/5] END .........C=10, gamma=1, kernel=rbf;, score=0.316 total time=   3.5s\n",
            "[CV 1/5] END ......C=10, gamma=1, kernel=linear;, score=0.633 total time=   2.0s\n",
            "[CV 2/5] END ......C=10, gamma=1, kernel=linear;, score=0.703 total time=   2.5s\n",
            "[CV 3/5] END ......C=10, gamma=1, kernel=linear;, score=0.726 total time=   2.4s\n",
            "[CV 4/5] END ......C=10, gamma=1, kernel=linear;, score=0.674 total time=   2.3s\n",
            "[CV 5/5] END ......C=10, gamma=1, kernel=linear;, score=0.674 total time=   2.4s\n",
            "[CV 1/5] END ........C=10, gamma=1, kernel=poly;, score=0.492 total time=   4.5s\n",
            "[CV 2/5] END ........C=10, gamma=1, kernel=poly;, score=0.546 total time=   4.4s\n",
            "[CV 3/5] END ........C=10, gamma=1, kernel=poly;, score=0.559 total time=   4.2s\n",
            "[CV 4/5] END ........C=10, gamma=1, kernel=poly;, score=0.531 total time=   4.1s\n",
            "[CV 5/5] END ........C=10, gamma=1, kernel=poly;, score=0.509 total time=   3.7s\n",
            "[CV 1/5] END .......C=10, gamma=0.1, kernel=rbf;, score=0.608 total time=   3.7s\n",
            "[CV 2/5] END .......C=10, gamma=0.1, kernel=rbf;, score=0.687 total time=   3.7s\n",
            "[CV 3/5] END .......C=10, gamma=0.1, kernel=rbf;, score=0.672 total time=   3.7s\n",
            "[CV 4/5] END .......C=10, gamma=0.1, kernel=rbf;, score=0.649 total time=   3.6s\n",
            "[CV 5/5] END .......C=10, gamma=0.1, kernel=rbf;, score=0.666 total time=   3.6s\n",
            "[CV 1/5] END ....C=10, gamma=0.1, kernel=linear;, score=0.633 total time=   1.7s\n",
            "[CV 2/5] END ....C=10, gamma=0.1, kernel=linear;, score=0.703 total time=   1.8s\n",
            "[CV 3/5] END ....C=10, gamma=0.1, kernel=linear;, score=0.726 total time=   1.8s\n",
            "[CV 4/5] END ....C=10, gamma=0.1, kernel=linear;, score=0.674 total time=   1.7s\n",
            "[CV 5/5] END ....C=10, gamma=0.1, kernel=linear;, score=0.674 total time=   1.8s\n",
            "[CV 1/5] END ......C=10, gamma=0.1, kernel=poly;, score=0.479 total time=   3.4s\n",
            "[CV 2/5] END ......C=10, gamma=0.1, kernel=poly;, score=0.513 total time=   3.5s\n",
            "[CV 3/5] END ......C=10, gamma=0.1, kernel=poly;, score=0.554 total time=   3.4s\n",
            "[CV 4/5] END ......C=10, gamma=0.1, kernel=poly;, score=0.464 total time=   3.3s\n",
            "[CV 5/5] END ......C=10, gamma=0.1, kernel=poly;, score=0.496 total time=   3.4s\n",
            "[CV 1/5] END ......C=10, gamma=0.01, kernel=rbf;, score=0.690 total time=   2.6s\n",
            "[CV 2/5] END ......C=10, gamma=0.01, kernel=rbf;, score=0.762 total time=   2.5s\n",
            "[CV 3/5] END ......C=10, gamma=0.01, kernel=rbf;, score=0.782 total time=   2.5s\n",
            "[CV 4/5] END ......C=10, gamma=0.01, kernel=rbf;, score=0.726 total time=   2.4s\n",
            "[CV 5/5] END ......C=10, gamma=0.01, kernel=rbf;, score=0.738 total time=   2.4s\n",
            "[CV 1/5] END ...C=10, gamma=0.01, kernel=linear;, score=0.633 total time=   1.7s\n",
            "[CV 2/5] END ...C=10, gamma=0.01, kernel=linear;, score=0.703 total time=   1.8s\n",
            "[CV 3/5] END ...C=10, gamma=0.01, kernel=linear;, score=0.726 total time=   1.8s\n",
            "[CV 4/5] END ...C=10, gamma=0.01, kernel=linear;, score=0.674 total time=   1.7s\n",
            "[CV 5/5] END ...C=10, gamma=0.01, kernel=linear;, score=0.674 total time=   1.8s\n",
            "[CV 1/5] END .....C=10, gamma=0.01, kernel=poly;, score=0.297 total time=   3.3s\n",
            "[CV 2/5] END .....C=10, gamma=0.01, kernel=poly;, score=0.297 total time=   3.4s\n",
            "[CV 3/5] END .....C=10, gamma=0.01, kernel=poly;, score=0.300 total time=   3.4s\n",
            "[CV 4/5] END .....C=10, gamma=0.01, kernel=poly;, score=0.300 total time=   3.4s\n",
            "[CV 5/5] END .....C=10, gamma=0.01, kernel=poly;, score=0.301 total time=   3.4s\n"
          ]
        },
        {
          "data": {
            "text/html": [
              "<style>#sk-container-id-1 {color: black;background-color: white;}#sk-container-id-1 pre{padding: 0;}#sk-container-id-1 div.sk-toggleable {background-color: white;}#sk-container-id-1 label.sk-toggleable__label {cursor: pointer;display: block;width: 100%;margin-bottom: 0;padding: 0.3em;box-sizing: border-box;text-align: center;}#sk-container-id-1 label.sk-toggleable__label-arrow:before {content: \"▸\";float: left;margin-right: 0.25em;color: #696969;}#sk-container-id-1 label.sk-toggleable__label-arrow:hover:before {color: black;}#sk-container-id-1 div.sk-estimator:hover label.sk-toggleable__label-arrow:before {color: black;}#sk-container-id-1 div.sk-toggleable__content {max-height: 0;max-width: 0;overflow: hidden;text-align: left;background-color: #f0f8ff;}#sk-container-id-1 div.sk-toggleable__content pre {margin: 0.2em;color: black;border-radius: 0.25em;background-color: #f0f8ff;}#sk-container-id-1 input.sk-toggleable__control:checked~div.sk-toggleable__content {max-height: 200px;max-width: 100%;overflow: auto;}#sk-container-id-1 input.sk-toggleable__control:checked~label.sk-toggleable__label-arrow:before {content: \"▾\";}#sk-container-id-1 div.sk-estimator input.sk-toggleable__control:checked~label.sk-toggleable__label {background-color: #d4ebff;}#sk-container-id-1 div.sk-label input.sk-toggleable__control:checked~label.sk-toggleable__label {background-color: #d4ebff;}#sk-container-id-1 input.sk-hidden--visually {border: 0;clip: rect(1px 1px 1px 1px);clip: rect(1px, 1px, 1px, 1px);height: 1px;margin: -1px;overflow: hidden;padding: 0;position: absolute;width: 1px;}#sk-container-id-1 div.sk-estimator {font-family: monospace;background-color: #f0f8ff;border: 1px dotted black;border-radius: 0.25em;box-sizing: border-box;margin-bottom: 0.5em;}#sk-container-id-1 div.sk-estimator:hover {background-color: #d4ebff;}#sk-container-id-1 div.sk-parallel-item::after {content: \"\";width: 100%;border-bottom: 1px solid gray;flex-grow: 1;}#sk-container-id-1 div.sk-label:hover label.sk-toggleable__label {background-color: #d4ebff;}#sk-container-id-1 div.sk-serial::before {content: \"\";position: absolute;border-left: 1px solid gray;box-sizing: border-box;top: 0;bottom: 0;left: 50%;z-index: 0;}#sk-container-id-1 div.sk-serial {display: flex;flex-direction: column;align-items: center;background-color: white;padding-right: 0.2em;padding-left: 0.2em;position: relative;}#sk-container-id-1 div.sk-item {position: relative;z-index: 1;}#sk-container-id-1 div.sk-parallel {display: flex;align-items: stretch;justify-content: center;background-color: white;position: relative;}#sk-container-id-1 div.sk-item::before, #sk-container-id-1 div.sk-parallel-item::before {content: \"\";position: absolute;border-left: 1px solid gray;box-sizing: border-box;top: 0;bottom: 0;left: 50%;z-index: -1;}#sk-container-id-1 div.sk-parallel-item {display: flex;flex-direction: column;z-index: 1;position: relative;background-color: white;}#sk-container-id-1 div.sk-parallel-item:first-child::after {align-self: flex-end;width: 50%;}#sk-container-id-1 div.sk-parallel-item:last-child::after {align-self: flex-start;width: 50%;}#sk-container-id-1 div.sk-parallel-item:only-child::after {width: 0;}#sk-container-id-1 div.sk-dashed-wrapped {border: 1px dashed gray;margin: 0 0.4em 0.5em 0.4em;box-sizing: border-box;padding-bottom: 0.4em;background-color: white;}#sk-container-id-1 div.sk-label label {font-family: monospace;font-weight: bold;display: inline-block;line-height: 1.2em;}#sk-container-id-1 div.sk-label-container {text-align: center;}#sk-container-id-1 div.sk-container {/* jupyter's `normalize.less` sets `[hidden] { display: none; }` but bootstrap.min.css set `[hidden] { display: none !important; }` so we also need the `!important` here to be able to override the default hidden behavior on the sphinx rendered scikit-learn.org. See: https://github.com/scikit-learn/scikit-learn/issues/21755 */display: inline-block !important;position: relative;}#sk-container-id-1 div.sk-text-repr-fallback {display: none;}</style><div id=\"sk-container-id-1\" class=\"sk-top-container\"><div class=\"sk-text-repr-fallback\"><pre>GridSearchCV(estimator=SVC(),\n",
              "             param_grid={&#x27;C&#x27;: [0.1, 1, 10], &#x27;gamma&#x27;: [1, 0.1, 0.01],\n",
              "                         &#x27;kernel&#x27;: [&#x27;rbf&#x27;, &#x27;linear&#x27;, &#x27;poly&#x27;]},\n",
              "             verbose=3)</pre><b>In a Jupyter environment, please rerun this cell to show the HTML representation or trust the notebook. <br />On GitHub, the HTML representation is unable to render, please try loading this page with nbviewer.org.</b></div><div class=\"sk-container\" hidden><div class=\"sk-item sk-dashed-wrapped\"><div class=\"sk-label-container\"><div class=\"sk-label sk-toggleable\"><input class=\"sk-toggleable__control sk-hidden--visually\" id=\"sk-estimator-id-1\" type=\"checkbox\" ><label for=\"sk-estimator-id-1\" class=\"sk-toggleable__label sk-toggleable__label-arrow\">GridSearchCV</label><div class=\"sk-toggleable__content\"><pre>GridSearchCV(estimator=SVC(),\n",
              "             param_grid={&#x27;C&#x27;: [0.1, 1, 10], &#x27;gamma&#x27;: [1, 0.1, 0.01],\n",
              "                         &#x27;kernel&#x27;: [&#x27;rbf&#x27;, &#x27;linear&#x27;, &#x27;poly&#x27;]},\n",
              "             verbose=3)</pre></div></div></div><div class=\"sk-parallel\"><div class=\"sk-parallel-item\"><div class=\"sk-item\"><div class=\"sk-label-container\"><div class=\"sk-label sk-toggleable\"><input class=\"sk-toggleable__control sk-hidden--visually\" id=\"sk-estimator-id-2\" type=\"checkbox\" ><label for=\"sk-estimator-id-2\" class=\"sk-toggleable__label sk-toggleable__label-arrow\">estimator: SVC</label><div class=\"sk-toggleable__content\"><pre>SVC()</pre></div></div></div><div class=\"sk-serial\"><div class=\"sk-item\"><div class=\"sk-estimator sk-toggleable\"><input class=\"sk-toggleable__control sk-hidden--visually\" id=\"sk-estimator-id-3\" type=\"checkbox\" ><label for=\"sk-estimator-id-3\" class=\"sk-toggleable__label sk-toggleable__label-arrow\">SVC</label><div class=\"sk-toggleable__content\"><pre>SVC()</pre></div></div></div></div></div></div></div></div></div></div>"
            ],
            "text/plain": [
              "GridSearchCV(estimator=SVC(),\n",
              "             param_grid={'C': [0.1, 1, 10], 'gamma': [1, 0.1, 0.01],\n",
              "                         'kernel': ['rbf', 'linear', 'poly']},\n",
              "             verbose=3)"
            ]
          },
          "execution_count": 60,
          "metadata": {},
          "output_type": "execute_result"
        }
      ],
      "source": [
        "# turning hyperparameter for svm\n",
        "from sklearn.model_selection import GridSearchCV\n",
        "\n",
        "# defining parameter range\n",
        "param_grid = {'C': [0.1, 1, 10],\n",
        "                'gamma': [1, 0.1, 0.01],\n",
        "                'kernel': ['rbf', 'linear', 'poly']}\n",
        "\n",
        "grid = GridSearchCV(SVC(), param_grid, refit = True, verbose = 3)\n",
        "\n",
        "# fitting the model for grid search\n",
        "grid.fit(X_train, y_train)"
      ]
    },
    {
      "cell_type": "code",
      "execution_count": 61,
      "metadata": {},
      "outputs": [
        {
          "name": "stdout",
          "output_type": "stream",
          "text": [
            "{'C': 10, 'gamma': 0.01, 'kernel': 'rbf'}\n",
            "SVC(C=10, gamma=0.01)\n",
            "SVM accuracy:  0.7725409836065574\n",
            "SVM f1 score:  0.7718304330795098\n",
            "SVM confusion matrix: \n",
            "[[ 54   7   1   2   1   1   1]\n",
            " [ 13 132   1   0   1   5   6]\n",
            " [  2  11  62   1   1   0   0]\n",
            " [  3   3   0  20   0   2   6]\n",
            " [  1   8   2   0  21   0   1]\n",
            " [  2   4   1   3   0  45   2]\n",
            " [  2   9   2   3   0   3  43]]\n"
          ]
        }
      ],
      "source": [
        "# print best parameter after tuning\n",
        "print(grid.best_params_)\n",
        "# print how our model looks after hyper-parameter tuning\n",
        "print(grid.best_estimator_)\n",
        "# print accuracy score\n",
        "print(\"SVM accuracy: \", accuracy_score(y_test, grid.predict(X_test)))\n",
        "print(\"SVM f1 score: \", f1_score(y_test, grid.predict(X_test), average='weighted'))\n",
        "print(\"SVM confusion matrix: \")\n",
        "print(confusion_matrix(y_test, grid.predict(X_test)))"
      ]
    },
    {
      "cell_type": "markdown",
      "metadata": {},
      "source": [
        "# Random forests"
      ]
    },
    {
      "cell_type": "markdown",
      "metadata": {},
      "source": [
        "![1](./utils/rf1.png)"
      ]
    },
    {
      "cell_type": "markdown",
      "metadata": {},
      "source": [
        "![1](./utils/dt1.png)\n"
      ]
    },
    {
      "cell_type": "markdown",
      "metadata": {},
      "source": [
        "![2](./utils/rf2.png)"
      ]
    },
    {
      "cell_type": "markdown",
      "metadata": {},
      "source": [
        "![3](./utils/rf3.png)"
      ]
    },
    {
      "cell_type": "code",
      "execution_count": 62,
      "metadata": {},
      "outputs": [],
      "source": [
        "from sklearn.ensemble import RandomForestClassifier  \n",
        "from sklearn.metrics import confusion_matrix\n",
        "from sklearn.metrics import accuracy_score\n",
        "from sklearn.metrics import f1_score"
      ]
    },
    {
      "cell_type": "code",
      "execution_count": 63,
      "metadata": {},
      "outputs": [
        {
          "name": "stdout",
          "output_type": "stream",
          "text": [
            "RF accuracy:  0.8012295081967213\n",
            "RF f1 score:  0.7984185947506828\n",
            "RF confusion matrix: \n",
            "[[ 57   6   0   0   0   3   1]\n",
            " [ 10 141   0   0   1   1   5]\n",
            " [  3   6  67   0   1   0   0]\n",
            " [  2   4   2  17   0   1   8]\n",
            " [  3   4   1   0  24   1   0]\n",
            " [  3   6   1   1   0  43   3]\n",
            " [  2  10   2   3   0   3  42]]\n"
          ]
        }
      ],
      "source": [
        "# create classifier\n",
        "clf = RandomForestClassifier(n_estimators=100, random_state=0)\n",
        "\n",
        "# train model\n",
        "clf.fit(X_train, y_train)\n",
        "\n",
        "# predict\n",
        "y_pred = clf.predict(X_test)\n",
        "\n",
        "# evaluate\n",
        "print(\"RF accuracy: \", accuracy_score(y_test, y_pred))\n",
        "print(\"RF f1 score: \", f1_score(y_test, y_pred, average='weighted'))\n",
        "print(\"RF confusion matrix: \")\n",
        "print(confusion_matrix(y_test, y_pred))"
      ]
    },
    {
      "cell_type": "code",
      "execution_count": 64,
      "metadata": {},
      "outputs": [
        {
          "name": "stdout",
          "output_type": "stream",
          "text": [
            "Fitting 3 folds for each of 18 candidates, totalling 54 fits\n"
          ]
        },
        {
          "name": "stderr",
          "output_type": "stream",
          "text": [
            "/home/vutuyen/Documents/W- Suzurain (W5)/venv/lib/python3.8/site-packages/sklearn/model_selection/_search.py:306: UserWarning: The total space of parameters 18 is smaller than n_iter=100. Running 18 iterations. For exhaustive searches, use GridSearchCV.\n",
            "  warnings.warn(\n",
            "/home/vutuyen/Documents/W- Suzurain (W5)/venv/lib/python3.8/site-packages/sklearn/ensemble/_forest.py:427: FutureWarning: `max_features='auto'` has been deprecated in 1.1 and will be removed in 1.3. To keep the past behaviour, explicitly set `max_features='sqrt'` or remove this parameter as it is also the default value for RandomForestClassifiers and ExtraTreesClassifiers.\n",
            "  warn(\n",
            "/home/vutuyen/Documents/W- Suzurain (W5)/venv/lib/python3.8/site-packages/sklearn/ensemble/_forest.py:427: FutureWarning: `max_features='auto'` has been deprecated in 1.1 and will be removed in 1.3. To keep the past behaviour, explicitly set `max_features='sqrt'` or remove this parameter as it is also the default value for RandomForestClassifiers and ExtraTreesClassifiers.\n",
            "  warn(\n",
            "/home/vutuyen/Documents/W- Suzurain (W5)/venv/lib/python3.8/site-packages/sklearn/ensemble/_forest.py:427: FutureWarning: `max_features='auto'` has been deprecated in 1.1 and will be removed in 1.3. To keep the past behaviour, explicitly set `max_features='sqrt'` or remove this parameter as it is also the default value for RandomForestClassifiers and ExtraTreesClassifiers.\n",
            "  warn(\n",
            "/home/vutuyen/Documents/W- Suzurain (W5)/venv/lib/python3.8/site-packages/sklearn/ensemble/_forest.py:427: FutureWarning: `max_features='auto'` has been deprecated in 1.1 and will be removed in 1.3. To keep the past behaviour, explicitly set `max_features='sqrt'` or remove this parameter as it is also the default value for RandomForestClassifiers and ExtraTreesClassifiers.\n",
            "  warn(\n",
            "/home/vutuyen/Documents/W- Suzurain (W5)/venv/lib/python3.8/site-packages/sklearn/ensemble/_forest.py:427: FutureWarning: `max_features='auto'` has been deprecated in 1.1 and will be removed in 1.3. To keep the past behaviour, explicitly set `max_features='sqrt'` or remove this parameter as it is also the default value for RandomForestClassifiers and ExtraTreesClassifiers.\n",
            "  warn(\n",
            "/home/vutuyen/Documents/W- Suzurain (W5)/venv/lib/python3.8/site-packages/sklearn/ensemble/_forest.py:427: FutureWarning: `max_features='auto'` has been deprecated in 1.1 and will be removed in 1.3. To keep the past behaviour, explicitly set `max_features='sqrt'` or remove this parameter as it is also the default value for RandomForestClassifiers and ExtraTreesClassifiers.\n",
            "  warn(\n",
            "/home/vutuyen/Documents/W- Suzurain (W5)/venv/lib/python3.8/site-packages/sklearn/ensemble/_forest.py:427: FutureWarning: `max_features='auto'` has been deprecated in 1.1 and will be removed in 1.3. To keep the past behaviour, explicitly set `max_features='sqrt'` or remove this parameter as it is also the default value for RandomForestClassifiers and ExtraTreesClassifiers.\n",
            "  warn(\n",
            "/home/vutuyen/Documents/W- Suzurain (W5)/venv/lib/python3.8/site-packages/sklearn/ensemble/_forest.py:427: FutureWarning: `max_features='auto'` has been deprecated in 1.1 and will be removed in 1.3. To keep the past behaviour, explicitly set `max_features='sqrt'` or remove this parameter as it is also the default value for RandomForestClassifiers and ExtraTreesClassifiers.\n",
            "  warn(\n",
            "/home/vutuyen/Documents/W- Suzurain (W5)/venv/lib/python3.8/site-packages/sklearn/ensemble/_forest.py:427: FutureWarning: `max_features='auto'` has been deprecated in 1.1 and will be removed in 1.3. To keep the past behaviour, explicitly set `max_features='sqrt'` or remove this parameter as it is also the default value for RandomForestClassifiers and ExtraTreesClassifiers.\n",
            "  warn(\n",
            "/home/vutuyen/Documents/W- Suzurain (W5)/venv/lib/python3.8/site-packages/sklearn/ensemble/_forest.py:427: FutureWarning: `max_features='auto'` has been deprecated in 1.1 and will be removed in 1.3. To keep the past behaviour, explicitly set `max_features='sqrt'` or remove this parameter as it is also the default value for RandomForestClassifiers and ExtraTreesClassifiers.\n",
            "  warn(\n",
            "/home/vutuyen/Documents/W- Suzurain (W5)/venv/lib/python3.8/site-packages/sklearn/ensemble/_forest.py:427: FutureWarning: `max_features='auto'` has been deprecated in 1.1 and will be removed in 1.3. To keep the past behaviour, explicitly set `max_features='sqrt'` or remove this parameter as it is also the default value for RandomForestClassifiers and ExtraTreesClassifiers.\n",
            "  warn(\n",
            "/home/vutuyen/Documents/W- Suzurain (W5)/venv/lib/python3.8/site-packages/sklearn/ensemble/_forest.py:427: FutureWarning: `max_features='auto'` has been deprecated in 1.1 and will be removed in 1.3. To keep the past behaviour, explicitly set `max_features='sqrt'` or remove this parameter as it is also the default value for RandomForestClassifiers and ExtraTreesClassifiers.\n",
            "  warn(\n"
          ]
        },
        {
          "name": "stdout",
          "output_type": "stream",
          "text": [
            "[CV] END max_features=auto, min_samples_split=5, n_estimators=100; total time=   4.0s\n",
            "[CV] END max_features=auto, min_samples_split=2, n_estimators=100; total time=   3.9s\n",
            "[CV] END max_features=auto, min_samples_split=5, n_estimators=100; total time=   3.8s\n",
            "[CV] END max_features=auto, min_samples_split=5, n_estimators=100; total time=   4.0s\n",
            "[CV] END max_features=auto, min_samples_split=2, n_estimators=100; total time=   4.4s\n"
          ]
        },
        {
          "name": "stderr",
          "output_type": "stream",
          "text": [
            "/home/vutuyen/Documents/W- Suzurain (W5)/venv/lib/python3.8/site-packages/sklearn/ensemble/_forest.py:427: FutureWarning: `max_features='auto'` has been deprecated in 1.1 and will be removed in 1.3. To keep the past behaviour, explicitly set `max_features='sqrt'` or remove this parameter as it is also the default value for RandomForestClassifiers and ExtraTreesClassifiers.\n",
            "  warn(\n",
            "/home/vutuyen/Documents/W- Suzurain (W5)/venv/lib/python3.8/site-packages/sklearn/ensemble/_forest.py:427: FutureWarning: `max_features='auto'` has been deprecated in 1.1 and will be removed in 1.3. To keep the past behaviour, explicitly set `max_features='sqrt'` or remove this parameter as it is also the default value for RandomForestClassifiers and ExtraTreesClassifiers.\n",
            "  warn(\n",
            "/home/vutuyen/Documents/W- Suzurain (W5)/venv/lib/python3.8/site-packages/sklearn/ensemble/_forest.py:427: FutureWarning: `max_features='auto'` has been deprecated in 1.1 and will be removed in 1.3. To keep the past behaviour, explicitly set `max_features='sqrt'` or remove this parameter as it is also the default value for RandomForestClassifiers and ExtraTreesClassifiers.\n",
            "  warn(\n",
            "/home/vutuyen/Documents/W- Suzurain (W5)/venv/lib/python3.8/site-packages/sklearn/ensemble/_forest.py:427: FutureWarning: `max_features='auto'` has been deprecated in 1.1 and will be removed in 1.3. To keep the past behaviour, explicitly set `max_features='sqrt'` or remove this parameter as it is also the default value for RandomForestClassifiers and ExtraTreesClassifiers.\n",
            "  warn(\n",
            "/home/vutuyen/Documents/W- Suzurain (W5)/venv/lib/python3.8/site-packages/sklearn/ensemble/_forest.py:427: FutureWarning: `max_features='auto'` has been deprecated in 1.1 and will be removed in 1.3. To keep the past behaviour, explicitly set `max_features='sqrt'` or remove this parameter as it is also the default value for RandomForestClassifiers and ExtraTreesClassifiers.\n",
            "  warn(\n"
          ]
        },
        {
          "name": "stdout",
          "output_type": "stream",
          "text": [
            "[CV] END max_features=auto, min_samples_split=2, n_estimators=100; total time=   5.3s\n"
          ]
        },
        {
          "name": "stderr",
          "output_type": "stream",
          "text": [
            "/home/vutuyen/Documents/W- Suzurain (W5)/venv/lib/python3.8/site-packages/sklearn/ensemble/_forest.py:427: FutureWarning: `max_features='auto'` has been deprecated in 1.1 and will be removed in 1.3. To keep the past behaviour, explicitly set `max_features='sqrt'` or remove this parameter as it is also the default value for RandomForestClassifiers and ExtraTreesClassifiers.\n",
            "  warn(\n"
          ]
        },
        {
          "name": "stdout",
          "output_type": "stream",
          "text": [
            "[CV] END max_features=auto, min_samples_split=2, n_estimators=200; total time=   8.1s\n",
            "[CV] END max_features=auto, min_samples_split=2, n_estimators=200; total time=   8.2s\n"
          ]
        },
        {
          "name": "stderr",
          "output_type": "stream",
          "text": [
            "/home/vutuyen/Documents/W- Suzurain (W5)/venv/lib/python3.8/site-packages/sklearn/ensemble/_forest.py:427: FutureWarning: `max_features='auto'` has been deprecated in 1.1 and will be removed in 1.3. To keep the past behaviour, explicitly set `max_features='sqrt'` or remove this parameter as it is also the default value for RandomForestClassifiers and ExtraTreesClassifiers.\n",
            "  warn(\n",
            "/home/vutuyen/Documents/W- Suzurain (W5)/venv/lib/python3.8/site-packages/sklearn/ensemble/_forest.py:427: FutureWarning: `max_features='auto'` has been deprecated in 1.1 and will be removed in 1.3. To keep the past behaviour, explicitly set `max_features='sqrt'` or remove this parameter as it is also the default value for RandomForestClassifiers and ExtraTreesClassifiers.\n",
            "  warn(\n"
          ]
        },
        {
          "name": "stdout",
          "output_type": "stream",
          "text": [
            "[CV] END max_features=auto, min_samples_split=2, n_estimators=200; total time=   9.2s\n"
          ]
        },
        {
          "name": "stderr",
          "output_type": "stream",
          "text": [
            "/home/vutuyen/Documents/W- Suzurain (W5)/venv/lib/python3.8/site-packages/sklearn/ensemble/_forest.py:427: FutureWarning: `max_features='auto'` has been deprecated in 1.1 and will be removed in 1.3. To keep the past behaviour, explicitly set `max_features='sqrt'` or remove this parameter as it is also the default value for RandomForestClassifiers and ExtraTreesClassifiers.\n",
            "  warn(\n"
          ]
        },
        {
          "name": "stdout",
          "output_type": "stream",
          "text": [
            "[CV] END max_features=auto, min_samples_split=5, n_estimators=200; total time=   6.9s\n"
          ]
        },
        {
          "name": "stderr",
          "output_type": "stream",
          "text": [
            "/home/vutuyen/Documents/W- Suzurain (W5)/venv/lib/python3.8/site-packages/sklearn/ensemble/_forest.py:427: FutureWarning: `max_features='auto'` has been deprecated in 1.1 and will be removed in 1.3. To keep the past behaviour, explicitly set `max_features='sqrt'` or remove this parameter as it is also the default value for RandomForestClassifiers and ExtraTreesClassifiers.\n",
            "  warn(\n"
          ]
        },
        {
          "name": "stdout",
          "output_type": "stream",
          "text": [
            "[CV] END max_features=auto, min_samples_split=5, n_estimators=200; total time=   7.2s\n",
            "[CV] END max_features=auto, min_samples_split=5, n_estimators=200; total time=   7.5s\n",
            "[CV] END max_features=auto, min_samples_split=10, n_estimators=100; total time=   3.3s\n"
          ]
        },
        {
          "name": "stderr",
          "output_type": "stream",
          "text": [
            "/home/vutuyen/Documents/W- Suzurain (W5)/venv/lib/python3.8/site-packages/sklearn/ensemble/_forest.py:427: FutureWarning: `max_features='auto'` has been deprecated in 1.1 and will be removed in 1.3. To keep the past behaviour, explicitly set `max_features='sqrt'` or remove this parameter as it is also the default value for RandomForestClassifiers and ExtraTreesClassifiers.\n",
            "  warn(\n",
            "/home/vutuyen/Documents/W- Suzurain (W5)/venv/lib/python3.8/site-packages/sklearn/ensemble/_forest.py:427: FutureWarning: `max_features='auto'` has been deprecated in 1.1 and will be removed in 1.3. To keep the past behaviour, explicitly set `max_features='sqrt'` or remove this parameter as it is also the default value for RandomForestClassifiers and ExtraTreesClassifiers.\n",
            "  warn(\n",
            "/home/vutuyen/Documents/W- Suzurain (W5)/venv/lib/python3.8/site-packages/sklearn/ensemble/_forest.py:427: FutureWarning: `max_features='auto'` has been deprecated in 1.1 and will be removed in 1.3. To keep the past behaviour, explicitly set `max_features='sqrt'` or remove this parameter as it is also the default value for RandomForestClassifiers and ExtraTreesClassifiers.\n",
            "  warn(\n"
          ]
        },
        {
          "name": "stdout",
          "output_type": "stream",
          "text": [
            "[CV] END max_features=auto, min_samples_split=10, n_estimators=100; total time=   3.5s\n",
            "[CV] END max_features=auto, min_samples_split=2, n_estimators=300; total time=  12.4s\n"
          ]
        },
        {
          "name": "stderr",
          "output_type": "stream",
          "text": [
            "/home/vutuyen/Documents/W- Suzurain (W5)/venv/lib/python3.8/site-packages/sklearn/ensemble/_forest.py:427: FutureWarning: `max_features='auto'` has been deprecated in 1.1 and will be removed in 1.3. To keep the past behaviour, explicitly set `max_features='sqrt'` or remove this parameter as it is also the default value for RandomForestClassifiers and ExtraTreesClassifiers.\n",
            "  warn(\n"
          ]
        },
        {
          "name": "stdout",
          "output_type": "stream",
          "text": [
            "[CV] END max_features=auto, min_samples_split=10, n_estimators=100; total time=   3.0s\n",
            "[CV] END max_features=auto, min_samples_split=2, n_estimators=300; total time=  12.2s\n"
          ]
        },
        {
          "name": "stderr",
          "output_type": "stream",
          "text": [
            "/home/vutuyen/Documents/W- Suzurain (W5)/venv/lib/python3.8/site-packages/sklearn/ensemble/_forest.py:427: FutureWarning: `max_features='auto'` has been deprecated in 1.1 and will be removed in 1.3. To keep the past behaviour, explicitly set `max_features='sqrt'` or remove this parameter as it is also the default value for RandomForestClassifiers and ExtraTreesClassifiers.\n",
            "  warn(\n"
          ]
        },
        {
          "name": "stdout",
          "output_type": "stream",
          "text": [
            "[CV] END max_features=auto, min_samples_split=2, n_estimators=300; total time=  13.1s\n",
            "[CV] END max_features=auto, min_samples_split=5, n_estimators=300; total time=  11.2s\n",
            "[CV] END max_features=auto, min_samples_split=5, n_estimators=300; total time=  12.2s\n",
            "[CV] END max_features=sqrt, min_samples_split=2, n_estimators=100; total time=   4.5s\n",
            "[CV] END max_features=auto, min_samples_split=5, n_estimators=300; total time=  11.2s\n",
            "[CV] END max_features=sqrt, min_samples_split=2, n_estimators=100; total time=   5.0s\n",
            "[CV] END max_features=auto, min_samples_split=10, n_estimators=200; total time=   7.0s\n",
            "[CV] END max_features=auto, min_samples_split=10, n_estimators=200; total time=   6.6s\n",
            "[CV] END max_features=auto, min_samples_split=10, n_estimators=200; total time=   7.1s[CV] END max_features=sqrt, min_samples_split=2, n_estimators=100; total time=   5.3s\n",
            "\n",
            "[CV] END max_features=auto, min_samples_split=10, n_estimators=300; total time=   8.4s\n",
            "[CV] END max_features=sqrt, min_samples_split=5, n_estimators=100; total time=   3.4s\n",
            "[CV] END max_features=sqrt, min_samples_split=5, n_estimators=100; total time=   3.6s\n",
            "[CV] END max_features=sqrt, min_samples_split=5, n_estimators=100; total time=   4.3s\n",
            "[CV] END max_features=auto, min_samples_split=10, n_estimators=300; total time=  10.4s\n",
            "[CV] END max_features=auto, min_samples_split=10, n_estimators=300; total time=  10.5s\n",
            "[CV] END max_features=sqrt, min_samples_split=2, n_estimators=200; total time=   8.4s\n",
            "[CV] END max_features=sqrt, min_samples_split=2, n_estimators=200; total time=   7.9s\n",
            "[CV] END max_features=sqrt, min_samples_split=2, n_estimators=200; total time=   8.8s\n",
            "[CV] END max_features=sqrt, min_samples_split=5, n_estimators=200; total time=   7.2s\n",
            "[CV] END max_features=sqrt, min_samples_split=10, n_estimators=100; total time=   3.8s\n",
            "[CV] END max_features=sqrt, min_samples_split=10, n_estimators=100; total time=   3.9s\n",
            "[CV] END max_features=sqrt, min_samples_split=10, n_estimators=100; total time=   3.1s\n",
            "[CV] END max_features=sqrt, min_samples_split=5, n_estimators=200; total time=   7.0s\n",
            "[CV] END max_features=sqrt, min_samples_split=5, n_estimators=200; total time=   7.2s\n",
            "[CV] END max_features=sqrt, min_samples_split=2, n_estimators=300; total time=  12.2s\n",
            "[CV] END max_features=sqrt, min_samples_split=2, n_estimators=300; total time=  13.2s\n",
            "[CV] END max_features=sqrt, min_samples_split=2, n_estimators=300; total time=  13.0s\n",
            "[CV] END max_features=sqrt, min_samples_split=5, n_estimators=300; total time=   9.7s\n",
            "[CV] END max_features=sqrt, min_samples_split=10, n_estimators=200; total time=   5.1s\n",
            "[CV] END max_features=sqrt, min_samples_split=5, n_estimators=300; total time=  10.0s\n",
            "[CV] END max_features=sqrt, min_samples_split=10, n_estimators=200; total time=   5.0s\n",
            "[CV] END max_features=sqrt, min_samples_split=5, n_estimators=300; total time=  10.2s\n",
            "[CV] END max_features=sqrt, min_samples_split=10, n_estimators=200; total time=   4.7s\n",
            "[CV] END max_features=sqrt, min_samples_split=10, n_estimators=300; total time=   5.1s\n",
            "[CV] END max_features=sqrt, min_samples_split=10, n_estimators=300; total time=   4.7s\n",
            "[CV] END max_features=sqrt, min_samples_split=10, n_estimators=300; total time=   4.9s\n"
          ]
        },
        {
          "name": "stderr",
          "output_type": "stream",
          "text": [
            "/home/vutuyen/Documents/W- Suzurain (W5)/venv/lib/python3.8/site-packages/sklearn/ensemble/_forest.py:427: FutureWarning: `max_features='auto'` has been deprecated in 1.1 and will be removed in 1.3. To keep the past behaviour, explicitly set `max_features='sqrt'` or remove this parameter as it is also the default value for RandomForestClassifiers and ExtraTreesClassifiers.\n",
            "  warn(\n"
          ]
        },
        {
          "data": {
            "text/html": [
              "<style>#sk-container-id-2 {color: black;background-color: white;}#sk-container-id-2 pre{padding: 0;}#sk-container-id-2 div.sk-toggleable {background-color: white;}#sk-container-id-2 label.sk-toggleable__label {cursor: pointer;display: block;width: 100%;margin-bottom: 0;padding: 0.3em;box-sizing: border-box;text-align: center;}#sk-container-id-2 label.sk-toggleable__label-arrow:before {content: \"▸\";float: left;margin-right: 0.25em;color: #696969;}#sk-container-id-2 label.sk-toggleable__label-arrow:hover:before {color: black;}#sk-container-id-2 div.sk-estimator:hover label.sk-toggleable__label-arrow:before {color: black;}#sk-container-id-2 div.sk-toggleable__content {max-height: 0;max-width: 0;overflow: hidden;text-align: left;background-color: #f0f8ff;}#sk-container-id-2 div.sk-toggleable__content pre {margin: 0.2em;color: black;border-radius: 0.25em;background-color: #f0f8ff;}#sk-container-id-2 input.sk-toggleable__control:checked~div.sk-toggleable__content {max-height: 200px;max-width: 100%;overflow: auto;}#sk-container-id-2 input.sk-toggleable__control:checked~label.sk-toggleable__label-arrow:before {content: \"▾\";}#sk-container-id-2 div.sk-estimator input.sk-toggleable__control:checked~label.sk-toggleable__label {background-color: #d4ebff;}#sk-container-id-2 div.sk-label input.sk-toggleable__control:checked~label.sk-toggleable__label {background-color: #d4ebff;}#sk-container-id-2 input.sk-hidden--visually {border: 0;clip: rect(1px 1px 1px 1px);clip: rect(1px, 1px, 1px, 1px);height: 1px;margin: -1px;overflow: hidden;padding: 0;position: absolute;width: 1px;}#sk-container-id-2 div.sk-estimator {font-family: monospace;background-color: #f0f8ff;border: 1px dotted black;border-radius: 0.25em;box-sizing: border-box;margin-bottom: 0.5em;}#sk-container-id-2 div.sk-estimator:hover {background-color: #d4ebff;}#sk-container-id-2 div.sk-parallel-item::after {content: \"\";width: 100%;border-bottom: 1px solid gray;flex-grow: 1;}#sk-container-id-2 div.sk-label:hover label.sk-toggleable__label {background-color: #d4ebff;}#sk-container-id-2 div.sk-serial::before {content: \"\";position: absolute;border-left: 1px solid gray;box-sizing: border-box;top: 0;bottom: 0;left: 50%;z-index: 0;}#sk-container-id-2 div.sk-serial {display: flex;flex-direction: column;align-items: center;background-color: white;padding-right: 0.2em;padding-left: 0.2em;position: relative;}#sk-container-id-2 div.sk-item {position: relative;z-index: 1;}#sk-container-id-2 div.sk-parallel {display: flex;align-items: stretch;justify-content: center;background-color: white;position: relative;}#sk-container-id-2 div.sk-item::before, #sk-container-id-2 div.sk-parallel-item::before {content: \"\";position: absolute;border-left: 1px solid gray;box-sizing: border-box;top: 0;bottom: 0;left: 50%;z-index: -1;}#sk-container-id-2 div.sk-parallel-item {display: flex;flex-direction: column;z-index: 1;position: relative;background-color: white;}#sk-container-id-2 div.sk-parallel-item:first-child::after {align-self: flex-end;width: 50%;}#sk-container-id-2 div.sk-parallel-item:last-child::after {align-self: flex-start;width: 50%;}#sk-container-id-2 div.sk-parallel-item:only-child::after {width: 0;}#sk-container-id-2 div.sk-dashed-wrapped {border: 1px dashed gray;margin: 0 0.4em 0.5em 0.4em;box-sizing: border-box;padding-bottom: 0.4em;background-color: white;}#sk-container-id-2 div.sk-label label {font-family: monospace;font-weight: bold;display: inline-block;line-height: 1.2em;}#sk-container-id-2 div.sk-label-container {text-align: center;}#sk-container-id-2 div.sk-container {/* jupyter's `normalize.less` sets `[hidden] { display: none; }` but bootstrap.min.css set `[hidden] { display: none !important; }` so we also need the `!important` here to be able to override the default hidden behavior on the sphinx rendered scikit-learn.org. See: https://github.com/scikit-learn/scikit-learn/issues/21755 */display: inline-block !important;position: relative;}#sk-container-id-2 div.sk-text-repr-fallback {display: none;}</style><div id=\"sk-container-id-2\" class=\"sk-top-container\"><div class=\"sk-text-repr-fallback\"><pre>RandomizedSearchCV(cv=3, estimator=RandomForestClassifier(random_state=0),\n",
              "                   n_iter=100, n_jobs=-1,\n",
              "                   param_distributions={&#x27;max_features&#x27;: [&#x27;auto&#x27;, &#x27;sqrt&#x27;],\n",
              "                                        &#x27;min_samples_split&#x27;: [2, 5, 10],\n",
              "                                        &#x27;n_estimators&#x27;: [100, 200, 300]},\n",
              "                   random_state=42, verbose=2)</pre><b>In a Jupyter environment, please rerun this cell to show the HTML representation or trust the notebook. <br />On GitHub, the HTML representation is unable to render, please try loading this page with nbviewer.org.</b></div><div class=\"sk-container\" hidden><div class=\"sk-item sk-dashed-wrapped\"><div class=\"sk-label-container\"><div class=\"sk-label sk-toggleable\"><input class=\"sk-toggleable__control sk-hidden--visually\" id=\"sk-estimator-id-4\" type=\"checkbox\" ><label for=\"sk-estimator-id-4\" class=\"sk-toggleable__label sk-toggleable__label-arrow\">RandomizedSearchCV</label><div class=\"sk-toggleable__content\"><pre>RandomizedSearchCV(cv=3, estimator=RandomForestClassifier(random_state=0),\n",
              "                   n_iter=100, n_jobs=-1,\n",
              "                   param_distributions={&#x27;max_features&#x27;: [&#x27;auto&#x27;, &#x27;sqrt&#x27;],\n",
              "                                        &#x27;min_samples_split&#x27;: [2, 5, 10],\n",
              "                                        &#x27;n_estimators&#x27;: [100, 200, 300]},\n",
              "                   random_state=42, verbose=2)</pre></div></div></div><div class=\"sk-parallel\"><div class=\"sk-parallel-item\"><div class=\"sk-item\"><div class=\"sk-label-container\"><div class=\"sk-label sk-toggleable\"><input class=\"sk-toggleable__control sk-hidden--visually\" id=\"sk-estimator-id-5\" type=\"checkbox\" ><label for=\"sk-estimator-id-5\" class=\"sk-toggleable__label sk-toggleable__label-arrow\">estimator: RandomForestClassifier</label><div class=\"sk-toggleable__content\"><pre>RandomForestClassifier(random_state=0)</pre></div></div></div><div class=\"sk-serial\"><div class=\"sk-item\"><div class=\"sk-estimator sk-toggleable\"><input class=\"sk-toggleable__control sk-hidden--visually\" id=\"sk-estimator-id-6\" type=\"checkbox\" ><label for=\"sk-estimator-id-6\" class=\"sk-toggleable__label sk-toggleable__label-arrow\">RandomForestClassifier</label><div class=\"sk-toggleable__content\"><pre>RandomForestClassifier(random_state=0)</pre></div></div></div></div></div></div></div></div></div></div>"
            ],
            "text/plain": [
              "RandomizedSearchCV(cv=3, estimator=RandomForestClassifier(random_state=0),\n",
              "                   n_iter=100, n_jobs=-1,\n",
              "                   param_distributions={'max_features': ['auto', 'sqrt'],\n",
              "                                        'min_samples_split': [2, 5, 10],\n",
              "                                        'n_estimators': [100, 200, 300]},\n",
              "                   random_state=42, verbose=2)"
            ]
          },
          "execution_count": 64,
          "metadata": {},
          "output_type": "execute_result"
        }
      ],
      "source": [
        "# hyperparameter tuning\n",
        "from sklearn.model_selection import RandomizedSearchCV\n",
        "\n",
        "# Number of trees in random forest\n",
        "n_estimators = [100,200,300]\n",
        "# Number of features to consider at every split\n",
        "max_features = ['auto', 'sqrt']\n",
        "# Minimum number of samples required to split a node\n",
        "min_samples_split = [2, 5, 10]\n",
        "\n",
        "# Create the random grid\n",
        "random_grid = {'n_estimators': n_estimators,\n",
        "                'max_features': max_features,\n",
        "                'min_samples_split': min_samples_split}\n",
        "\n",
        "# Random search of parameters, using 3 fold cross validation,\n",
        "# search across 100 different combinations, and use all available cores\n",
        "rf_random = RandomizedSearchCV(estimator = clf, param_distributions = random_grid, n_iter = 100, cv = 3, verbose=2, random_state=42, n_jobs = -1)\n",
        "\n",
        "# Fit the random search model\n",
        "rf_random.fit(X_train, y_train)"
      ]
    },
    {
      "cell_type": "code",
      "execution_count": 65,
      "metadata": {},
      "outputs": [
        {
          "name": "stdout",
          "output_type": "stream",
          "text": [
            "{'n_estimators': 300, 'min_samples_split': 2, 'max_features': 'auto'}\n",
            "RandomForestClassifier(max_features='auto', n_estimators=300, random_state=0)\n",
            "RF accuracy:  0.8012295081967213\n",
            "RF f1 score:  0.7996175934731945\n",
            "RF confusion matrix: \n",
            "[[ 57   6   0   0   1   2   1]\n",
            " [ 12 139   0   0   1   1   5]\n",
            " [  2   8  66   0   1   0   0]\n",
            " [  1   4   1  18   0   2   8]\n",
            " [  3   4   1   0  24   1   0]\n",
            " [  3   4   1   1   0  43   5]\n",
            " [  2   8   2   3   0   3  44]]\n"
          ]
        }
      ],
      "source": [
        "# print best parameter after tuning\n",
        "print(rf_random.best_params_)\n",
        "# print how our model looks after hyper-parameter tuning\n",
        "print(rf_random.best_estimator_)\n",
        "# print accuracy score\n",
        "print(\"RF accuracy: \", accuracy_score(y_test, rf_random.predict(X_test)))\n",
        "print(\"RF f1 score: \", f1_score(y_test, rf_random.predict(X_test), average='weighted'))\n",
        "print(\"RF confusion matrix: \")\n",
        "print(confusion_matrix(y_test, rf_random.predict(X_test)))"
      ]
    },
    {
      "cell_type": "code",
      "execution_count": null,
      "metadata": {},
      "outputs": [],
      "source": []
    }
  ],
  "metadata": {
    "colab": {
      "collapsed_sections": [],
      "provenance": []
    },
    "kernelspec": {
      "display_name": "Python 3.8.10 ('venv': venv)",
      "language": "python",
      "name": "python3"
    },
    "language_info": {
      "codemirror_mode": {
        "name": "ipython",
        "version": 3
      },
      "file_extension": ".py",
      "mimetype": "text/x-python",
      "name": "python",
      "nbconvert_exporter": "python",
      "pygments_lexer": "ipython3",
      "version": "3.8.10"
    },
    "vscode": {
      "interpreter": {
        "hash": "e55b83d6df438020cc47c28f342b5e06866686edd0af7a202f52dde0fd1e4a89"
      }
    }
  },
  "nbformat": 4,
  "nbformat_minor": 0
}
