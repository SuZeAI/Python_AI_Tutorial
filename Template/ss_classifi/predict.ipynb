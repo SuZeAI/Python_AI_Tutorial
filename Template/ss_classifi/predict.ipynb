{
  "cells": [
    {
      "cell_type": "code",
      "execution_count": null,
      "metadata": {
        "id": "mS_xFtHCYR1L"
      },
      "outputs": [],
      "source": [
        "import pandas as pd\n",
        "import numpy as np\n",
        "from pathlib import Path\n",
        "import matplotlib.pyplot as plt\n",
        "import json\n",
        "from sklearn.preprocessing import LabelEncoder"
      ]
    },
    {
      "cell_type": "code",
      "execution_count": null,
      "metadata": {
        "id": "l4VRnI26bYLb"
      },
      "outputs": [],
      "source": [
        "data_raw = \"/content/drive/MyDrive/ML AI/AI_Naver_PTIT/classification/train_PTIT.csv\"\n",
        "df = pd.read_csv(data_raw)"
      ]
    },
    {
      "cell_type": "code",
      "execution_count": null,
      "metadata": {
        "id": "QgU2KUL9bZSe"
      },
      "outputs": [],
      "source": [
        "import pickle\n",
        "\n",
        "Pkl_Filename = \"/content/drive/MyDrive/ML AI/AI_Naver_PTIT/classification/Pickle_Model_Logistic.pkl\"  \n",
        "\n",
        "with open(Pkl_Filename, 'rb') as file:  \n",
        "    model = pickle.load(file)"
      ]
    },
    {
      "cell_type": "code",
      "execution_count": null,
      "metadata": {
        "id": "IL2BXl9-ggPE"
      },
      "outputs": [],
      "source": [
        "nameToInc = {\n",
        "    \"Probabilistic_Methods\": 0,\n",
        "    \"Neural_Networks\": 1,\n",
        "    \"Genetic_Algorithms\": 2,\n",
        "    \"Rule_Learning\": 3,\n",
        "    \"Reinforcement_Learning\": 4,\n",
        "    \"Case_Based\": 5,\n",
        "    \"Theory\": 6,\n",
        "}\n",
        "\n",
        "incToName = {\n",
        "    \"0\": \"Probabilistic_Methods\",\n",
        "    \"1\": \"Neural_Networks\",\n",
        "    \"2\": \"Genetic_Algorithms\",\n",
        "    \"3\": \"Rule_Learning\",\n",
        "    \"4\": \"Reinforcement_Learning\",\n",
        "    \"5\": \"Case_Based\",\n",
        "    \"6\": \"Theory\",\n",
        "}"
      ]
    },
    {
      "cell_type": "code",
      "execution_count": null,
      "metadata": {
        "id": "AxeqRStygjes"
      },
      "outputs": [],
      "source": [
        "df[\"subject_encode\"] = df[\"subject\"].apply(lambda x: nameToInc[x])"
      ]
    },
    {
      "cell_type": "code",
      "execution_count": null,
      "metadata": {
        "id": "kH0XypXleNP3"
      },
      "outputs": [],
      "source": [
        "X = df.iloc[:, :-2].values\n",
        "Y = df.iloc[:, -1].values"
      ]
    },
    {
      "cell_type": "code",
      "execution_count": null,
      "metadata": {
        "colab": {
          "base_uri": "https://localhost:8080/"
        },
        "id": "pKTICbXObf41",
        "outputId": "891ab2d0-a40d-4985-dbfe-b9452c60111a"
      },
      "outputs": [
        {
          "name": "stdout",
          "output_type": "stream",
          "text": [
            "errors:\n",
            "0.4103405826836274\n",
            "acc:\n",
            "0.9519901518260155\n"
          ]
        }
      ],
      "source": [
        "y_pred = model.predict(X)\n",
        "\n",
        "from sklearn.metrics import mean_squared_error\n",
        "from sklearn.metrics import accuracy_score\n",
        "errors = mean_squared_error(Y, y_pred)\n",
        "# report error\n",
        "print(\"errors:\")\n",
        "print(errors)\n",
        "acc = accuracy_score(Y, y_pred)\n",
        "print(\"acc:\")\n",
        "print(acc)"
      ]
    },
    {
      "cell_type": "code",
      "execution_count": null,
      "metadata": {
        "id": "VR4etZBymmlt"
      },
      "outputs": [],
      "source": []
    }
  ],
  "metadata": {
    "colab": {
      "collapsed_sections": [],
      "provenance": []
    },
    "kernelspec": {
      "display_name": "Python 3.9.7 64-bit",
      "language": "python",
      "name": "python3"
    },
    "language_info": {
      "name": "python",
      "version": "3.9.7"
    },
    "vscode": {
      "interpreter": {
        "hash": "2469a70536e4d2335a2ea8907942d0699c37342a371ac185bdb5b0aa6f073890"
      }
    }
  },
  "nbformat": 4,
  "nbformat_minor": 0
}
